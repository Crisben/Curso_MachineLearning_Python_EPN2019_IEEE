{
 "cells": [
  {
   "cell_type": "markdown",
   "metadata": {},
   "source": [
    "Para resolver este examen:\n",
    "1. Realice un fork al repositorio original ubicado en: https://github.com/LeninGF/Curso_MachineLearning_Python_EPN2019_IEEE\n",
    "2. Una vez realizado el fork del repositorio, descargue desde su repositorio de github el contenido\n",
    "3. Si usa windows, inicie un terminal de git-bash en la carpeta  *Machine-Learning-Introduction-with-Python*. Si usa linux, verifique que tiene instalado git. Ejecute\n",
    "\n",
    "       git remote add upstream https://github.com/LeninGF/Curso_MachineLearning_Python_EPN2019_IEEE\n",
    "\n",
    "4. Cree una branch en el repositorio con:\n",
    "\n",
    "       git checkout -b Examen_Nombre\n",
    "\n",
    "Donde Nombre corresponde al nombre individual de cada uno de ustedes\n",
    "\n",
    "5. Resuelva el examen: añada las celdas necesarias para contestar la pregunta con el código o la respuesta escrita. Pude ayudarse de python para incluir cálculos de ser necesario. Si se solicita escribir un script de python, cree el archivo dentro de la carpeta Examen.\n",
    "\n",
    "6. Una vez contestado el examen realice un:\n",
    "\n",
    "       git status\n",
    "\n",
    "Verifica los cambios realizados, y realiza un git add y añade este archivo ya que fue modificado por usted cuando lo respondió\n",
    "\n",
    "      git add Examen.ipynb\n",
    "      git add script_examen_nombre.py\n",
    "      git commit - m \"añado los archivos del examen de Nombre\"\n",
    "      git push origin Examen_Nombre\n",
    "    \n",
    "    \n",
    "7. Abra su cuenta de git y solicite **Pull Request** haciendo clic en el botón **Pull Request**\n",
    "\n",
    "Buena Suerte!"
   ]
  },
  {
   "cell_type": "markdown",
   "metadata": {},
   "source": [
    "## Pregunta 1\n",
    "La desigualdad de Hoeffding $\\mathbb{P}[\\mid E_{in}(g)-E_{out}(g) \\mid > \\epsilon] \\leq 2Me^{-2\\epsilon^{2}N}$ garantiza:\n",
    "    1. Que el Error de la muestra sea el mínimo posible $E_{in}(g) \\approx 0 $\n",
    "    2. Que el error de la muestra sea similar al error del espacio o universo $E_{in}(g) \\approx E_{out}(g) $"
   ]
  },
  {
   "cell_type": "markdown",
   "metadata": {},
   "source": []
  },
  {
   "cell_type": "markdown",
   "metadata": {},
   "source": [
    "## Pregunta 2\n",
    "En el enfoque de aprendizaje supervisado:\n",
    "1. Se trata de encontrar una función analítica $f$ que describa el problema\n",
    "2. Se trata de encontrar una entrenar un modelo tal que optimice una hipótesis $g$ que aproxime a $f$ ya que $f$ es siempre desconocida.\n",
    "3. Se trata de mapear un conjunto de datos de entrada $\\mathbf{\\mathcal{X}}$ con uno de salidas $\\mathcal{Y}$ presentando varios ejemplos contenidos en $\\mathbf{\\mathcal{X}}$ hasta que el modelo optimice una función de costo o error.\n"
   ]
  },
  {
   "cell_type": "markdown",
   "metadata": {},
   "source": []
  },
  {
   "cell_type": "markdown",
   "metadata": {},
   "source": [
    "## Pregunta 3\n",
    "\n",
    "En el ejemplo del **iris dataset** Cuáles son los vectores componentes o features? y Cuáles son las etiquetas?\n"
   ]
  },
  {
   "cell_type": "markdown",
   "metadata": {},
   "source": []
  },
  {
   "cell_type": "markdown",
   "metadata": {},
   "source": [
    "## Pregunta 4\n",
    "Genere un arreglo de 10 numeros enteros aleatorios que varian de 0 a 50. El arreglo debe contener datos de tipo int.\n",
    "\n",
    "Escriba una función que eleve al cuadrado cada uno de los elements contenido en el arreglo. Dibuje la relación $\\mathbf{y} =\\mathbf{x}^2$ usando matplotlib. "
   ]
  },
  {
   "cell_type": "code",
   "execution_count": null,
   "metadata": {},
   "outputs": [],
   "source": []
  },
  {
   "cell_type": "markdown",
   "metadata": {},
   "source": [
    "## Pregunta 5\n",
    "En el ejercicio anterior escriba una funcion llamada **devuelve_par** que cree un nuevo arreglo que contenga únicamente valores que $x^2$ que sean pares."
   ]
  },
  {
   "cell_type": "code",
   "execution_count": null,
   "metadata": {},
   "outputs": [],
   "source": []
  },
  {
   "cell_type": "markdown",
   "metadata": {},
   "source": [
    "## Pregunta 6\n",
    "En las siguientes preguntas discuta y justifique la veracidad o falsedad de las afirmaciones:\n",
    "1. El perceptron puede resolver problemas **no lineales**\n",
    "2. El perceptron puede tener una cantidad cualquiera tanto de nodos de entrada (o componentes) como de salida\n",
    "3. El perceptron sólo puede tener una neurona de salida\n",
    "4. Una red neuronal multicapa puede tener una cantidad cualquiera de nodos de entrada (o componentes), de nodos de capa oculta y de nodos de salida. Toda vez que no tenga más de una capa oculta. \n",
    "\n"
   ]
  },
  {
   "cell_type": "markdown",
   "metadata": {},
   "source": []
  },
  {
   "cell_type": "markdown",
   "metadata": {},
   "source": [
    "## Pregunta 7\n",
    "En las siguientes preguntas discuta y justifique la veracidad o falsedad de las afirmaciones:\n",
    "1. KNN puede resolver problemas de clasificación\n",
    "2. KNN no puede resolver problemas de regresión\n",
    "3. Una red neuronal multicapa puede resolver tanto problemas de clasificación como de regresión \n"
   ]
  },
  {
   "cell_type": "markdown",
   "metadata": {},
   "source": []
  },
  {
   "cell_type": "markdown",
   "metadata": {},
   "source": [
    "## Pregunta 8\n",
    "En el gráfico siguiente determine la *complejidad* (el número total de parámetros) que debe aprender la red neuronal. Considere tanto los pesos como los vías. \n",
    "<center>\n",
    "    \n",
    "<img src='images/mlp.png'/>\n",
    "</center>"
   ]
  },
  {
   "cell_type": "markdown",
   "metadata": {},
   "source": []
  },
  {
   "cell_type": "markdown",
   "metadata": {},
   "source": [
    "## Pregunta 9\n",
    "\n",
    "Aproxime la función $y = sin(x)$ en el rango de $[-\\pi/2, \\pi/2]$ usando:\n",
    "* Red neuronal multicapa\n",
    "* KNN"
   ]
  },
  {
   "cell_type": "code",
   "execution_count": null,
   "metadata": {},
   "outputs": [],
   "source": [
    "# declaración de dataset"
   ]
  },
  {
   "cell_type": "code",
   "execution_count": null,
   "metadata": {},
   "outputs": [],
   "source": [
    "# MLP"
   ]
  },
  {
   "cell_type": "code",
   "execution_count": null,
   "metadata": {},
   "outputs": [],
   "source": [
    "# KNN"
   ]
  },
  {
   "cell_type": "markdown",
   "metadata": {},
   "source": [
    "## Pregunta 10\n",
    "En la carpeta **dataset** encontrará un archivo csv. La columna *diagnosis* contiene el diagnóstico médico $y$; donde 1 es Maligno y 0 es Benigno. El resto de columnas contienen las componentes de entrada $\\mathbf{x}$.\n",
    "\n",
    "Desarrolle un script en python llamado red_cancer.py que:\n",
    "1. Entrene un modelo de red neuronal multicapa para resolver el problema de clasificación.\n",
    "2. El script debe permitir recibir por medio de consola el parámetro **split** que es un valor fraccionario de mayor a 0.5 que se utiliza para separar el dataset en los sub datasets de entrenamiento y validacion. Recuerde usar la librería argparse.\n",
    "3. El script recibe también por medio de consola la palabra clave para seleccionar el algoritmo de optimización: **adam**, **sgd**, **lbfgs** usando la palabra clave **optim**. Ejemplo:\n",
    "\n",
    "       python red_cancer.py --split 0.8 --optim sgd\n",
    "      \n",
    "      \n",
    "4. El script imprime el reporte de clasificación.\n",
    "\n",
    "### Ayudas:\n",
    "* Use pandas para leer el archivo csv\n",
    "* Una vez que obtiene el dataframe por usar pandas en la lectura del csv, separe el dataframe en 2 matrices, una **X** que contenga los ejemplos y los componentes, y otra Y que contenga sólo las etiquetas del diagnóstico.\n"
   ]
  },
  {
   "cell_type": "markdown",
   "metadata": {},
   "source": [
    "## Problema reto\n",
    "\n",
    "Realice una copia de su cuaderno de **Google Colab** de **dogs and cats** con aumento artificial de datos. Modifique la red convolucional planteada en clase con la que se indica en la figura. Adjunte el cuaderno con los resultados obtenidos en la clasificación para unas 150 épocas.\n",
    "\n",
    "<center>\n",
    "    \n",
    "<img src='images/AlexNet-1.png'/>\n",
    "</center>\n"
   ]
  }
 ],
 "metadata": {
  "kernelspec": {
   "display_name": "Python 3",
   "language": "python",
   "name": "python3"
  },
  "language_info": {
   "codemirror_mode": {
    "name": "ipython",
    "version": 3
   },
   "file_extension": ".py",
   "mimetype": "text/x-python",
   "name": "python",
   "nbconvert_exporter": "python",
   "pygments_lexer": "ipython3",
   "version": "3.6.4"
  }
 },
 "nbformat": 4,
 "nbformat_minor": 2
}
