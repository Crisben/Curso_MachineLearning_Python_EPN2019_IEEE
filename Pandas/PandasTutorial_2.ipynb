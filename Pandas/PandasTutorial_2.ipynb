{
 "cells": [
  {
   "cell_type": "markdown",
   "metadata": {},
   "source": [
    "## Análisis exporatorio de datos con Pandas\n",
    "En este tutorial utilizaremos algunas funciones de Pandas para el análisis exploratorio de datos. El dataset a usar está disponible en: "
   ]
  },
  {
   "cell_type": "code",
   "execution_count": 1,
   "metadata": {},
   "outputs": [],
   "source": [
    "import numpy as np\n",
    "import pandas as pd\n",
    "import matplotlib.pyplot as plt\n",
    "%matplotlib inline "
   ]
  },
  {
   "cell_type": "code",
   "execution_count": 2,
   "metadata": {},
   "outputs": [
    {
     "data": {
      "text/html": [
       "<div>\n",
       "<style scoped>\n",
       "    .dataframe tbody tr th:only-of-type {\n",
       "        vertical-align: middle;\n",
       "    }\n",
       "\n",
       "    .dataframe tbody tr th {\n",
       "        vertical-align: top;\n",
       "    }\n",
       "\n",
       "    .dataframe thead th {\n",
       "        text-align: right;\n",
       "    }\n",
       "</style>\n",
       "<table border=\"1\" class=\"dataframe\">\n",
       "  <thead>\n",
       "    <tr style=\"text-align: right;\">\n",
       "      <th></th>\n",
       "      <th>infografia</th>\n",
       "      <th>fecha</th>\n",
       "      <th>hora</th>\n",
       "      <th>id_provincia</th>\n",
       "      <th>nombre_provincia</th>\n",
       "      <th>id_canton</th>\n",
       "      <th>nombre_canton</th>\n",
       "      <th>cerco_epid_act</th>\n",
       "      <th>Casos confirmados</th>\n",
       "      <th>poblacion_canton</th>\n",
       "      <th>poblacion_provincia</th>\n",
       "    </tr>\n",
       "  </thead>\n",
       "  <tbody>\n",
       "    <tr>\n",
       "      <th>0</th>\n",
       "      <td>2</td>\n",
       "      <td>13/3/2020</td>\n",
       "      <td>17:00</td>\n",
       "      <td>9</td>\n",
       "      <td>guayas</td>\n",
       "      <td>901</td>\n",
       "      <td>guayaquil</td>\n",
       "      <td>279</td>\n",
       "      <td>7</td>\n",
       "      <td>2723665</td>\n",
       "      <td>4387434</td>\n",
       "    </tr>\n",
       "    <tr>\n",
       "      <th>1</th>\n",
       "      <td>2</td>\n",
       "      <td>13/3/2020</td>\n",
       "      <td>17:00</td>\n",
       "      <td>12</td>\n",
       "      <td>los rios</td>\n",
       "      <td>1201</td>\n",
       "      <td>babahoyo</td>\n",
       "      <td>279</td>\n",
       "      <td>11</td>\n",
       "      <td>175281</td>\n",
       "      <td>921763</td>\n",
       "    </tr>\n",
       "    <tr>\n",
       "      <th>2</th>\n",
       "      <td>2</td>\n",
       "      <td>13/3/2020</td>\n",
       "      <td>17:00</td>\n",
       "      <td>17</td>\n",
       "      <td>pichincha</td>\n",
       "      <td>1701</td>\n",
       "      <td>quito</td>\n",
       "      <td>279</td>\n",
       "      <td>4</td>\n",
       "      <td>2781641</td>\n",
       "      <td>3228233</td>\n",
       "    </tr>\n",
       "    <tr>\n",
       "      <th>3</th>\n",
       "      <td>2</td>\n",
       "      <td>13/3/2020</td>\n",
       "      <td>17:00</td>\n",
       "      <td>21</td>\n",
       "      <td>Sucumbios</td>\n",
       "      <td>2101</td>\n",
       "      <td>lago agrio</td>\n",
       "      <td>279</td>\n",
       "      <td>1</td>\n",
       "      <td>119594</td>\n",
       "      <td>230503</td>\n",
       "    </tr>\n",
       "    <tr>\n",
       "      <th>4</th>\n",
       "      <td>3</td>\n",
       "      <td>14/3/2020</td>\n",
       "      <td>15:00</td>\n",
       "      <td>1</td>\n",
       "      <td>azuay</td>\n",
       "      <td>101</td>\n",
       "      <td>cuenca</td>\n",
       "      <td>317</td>\n",
       "      <td>1</td>\n",
       "      <td>636996</td>\n",
       "      <td>881394</td>\n",
       "    </tr>\n",
       "  </tbody>\n",
       "</table>\n",
       "</div>"
      ],
      "text/plain": [
       "   infografia      fecha   hora  id_provincia nombre_provincia  id_canton  \\\n",
       "0           2  13/3/2020  17:00             9           guayas        901   \n",
       "1           2  13/3/2020  17:00            12         los rios       1201   \n",
       "2           2  13/3/2020  17:00            17        pichincha       1701   \n",
       "3           2  13/3/2020  17:00            21        Sucumbios       2101   \n",
       "4           3  14/3/2020  15:00             1            azuay        101   \n",
       "\n",
       "  nombre_canton cerco_epid_act  Casos confirmados  poblacion_canton  \\\n",
       "0     guayaquil            279                  7           2723665   \n",
       "1      babahoyo            279                 11            175281   \n",
       "2         quito            279                  4           2781641   \n",
       "3    lago agrio            279                  1            119594   \n",
       "4        cuenca            317                  1            636996   \n",
       "\n",
       "  poblacion_provincia  \n",
       "0             4387434  \n",
       "1              921763  \n",
       "2             3228233  \n",
       "3              230503  \n",
       "4              881394  "
      ]
     },
     "execution_count": 2,
     "metadata": {},
     "output_type": "execute_result"
    }
   ],
   "source": [
    "datos = pd.read_csv('https://raw.githubusercontent.com/pablora19/COVID19_EC/master/covid_ec.csv')\n",
    "datos.head()"
   ]
  },
  {
   "cell_type": "markdown",
   "metadata": {},
   "source": [
    "Cuál es la cantidad de datos en el dataset?"
   ]
  },
  {
   "cell_type": "code",
   "execution_count": 3,
   "metadata": {},
   "outputs": [
    {
     "data": {
      "text/plain": [
       "(4516, 11)"
      ]
     },
     "execution_count": 3,
     "metadata": {},
     "output_type": "execute_result"
    }
   ],
   "source": [
    "datos.shape"
   ]
  },
  {
   "cell_type": "markdown",
   "metadata": {},
   "source": [
    "Observar las fechas de los últimos datos:"
   ]
  },
  {
   "cell_type": "code",
   "execution_count": 4,
   "metadata": {},
   "outputs": [
    {
     "data": {
      "text/html": [
       "<div>\n",
       "<style scoped>\n",
       "    .dataframe tbody tr th:only-of-type {\n",
       "        vertical-align: middle;\n",
       "    }\n",
       "\n",
       "    .dataframe tbody tr th {\n",
       "        vertical-align: top;\n",
       "    }\n",
       "\n",
       "    .dataframe thead th {\n",
       "        text-align: right;\n",
       "    }\n",
       "</style>\n",
       "<table border=\"1\" class=\"dataframe\">\n",
       "  <thead>\n",
       "    <tr style=\"text-align: right;\">\n",
       "      <th></th>\n",
       "      <th>infografia</th>\n",
       "      <th>fecha</th>\n",
       "      <th>hora</th>\n",
       "      <th>id_provincia</th>\n",
       "      <th>nombre_provincia</th>\n",
       "      <th>id_canton</th>\n",
       "      <th>nombre_canton</th>\n",
       "      <th>cerco_epid_act</th>\n",
       "      <th>Casos confirmados</th>\n",
       "      <th>poblacion_canton</th>\n",
       "      <th>poblacion_provincia</th>\n",
       "    </tr>\n",
       "  </thead>\n",
       "  <tbody>\n",
       "    <tr>\n",
       "      <th>4511</th>\n",
       "      <td>59</td>\n",
       "      <td>23/4/2020</td>\n",
       "      <td>8:00</td>\n",
       "      <td>19</td>\n",
       "      <td>zamora chinchipe</td>\n",
       "      <td>1901</td>\n",
       "      <td>Zamora</td>\n",
       "      <td>NaN</td>\n",
       "      <td>15</td>\n",
       "      <td>32761</td>\n",
       "      <td>120416</td>\n",
       "    </tr>\n",
       "    <tr>\n",
       "      <th>4512</th>\n",
       "      <td>59</td>\n",
       "      <td>23/4/2020</td>\n",
       "      <td>8:00</td>\n",
       "      <td>19</td>\n",
       "      <td>zamora chinchipe</td>\n",
       "      <td>1907</td>\n",
       "      <td>centinela del condor</td>\n",
       "      <td>NaN</td>\n",
       "      <td>3</td>\n",
       "      <td>8313</td>\n",
       "      <td>120416</td>\n",
       "    </tr>\n",
       "    <tr>\n",
       "      <th>4513</th>\n",
       "      <td>59</td>\n",
       "      <td>23/4/2020</td>\n",
       "      <td>8:00</td>\n",
       "      <td>20</td>\n",
       "      <td>galapagos</td>\n",
       "      <td>2001</td>\n",
       "      <td>san cristobal</td>\n",
       "      <td>NaN</td>\n",
       "      <td>13</td>\n",
       "      <td>9667</td>\n",
       "      <td>33042</td>\n",
       "    </tr>\n",
       "    <tr>\n",
       "      <th>4514</th>\n",
       "      <td>59</td>\n",
       "      <td>23/4/2020</td>\n",
       "      <td>8:00</td>\n",
       "      <td>20</td>\n",
       "      <td>galapagos</td>\n",
       "      <td>2002</td>\n",
       "      <td>isabela</td>\n",
       "      <td>NaN</td>\n",
       "      <td>3</td>\n",
       "      <td>3073</td>\n",
       "      <td>33042</td>\n",
       "    </tr>\n",
       "    <tr>\n",
       "      <th>4515</th>\n",
       "      <td>59</td>\n",
       "      <td>23/4/2020</td>\n",
       "      <td>8:00</td>\n",
       "      <td>20</td>\n",
       "      <td>galapagos</td>\n",
       "      <td>2003</td>\n",
       "      <td>santa cruz</td>\n",
       "      <td>NaN</td>\n",
       "      <td>38</td>\n",
       "      <td>20302</td>\n",
       "      <td>33042</td>\n",
       "    </tr>\n",
       "  </tbody>\n",
       "</table>\n",
       "</div>"
      ],
      "text/plain": [
       "      infografia      fecha  hora  id_provincia  nombre_provincia  id_canton  \\\n",
       "4511          59  23/4/2020  8:00            19  zamora chinchipe       1901   \n",
       "4512          59  23/4/2020  8:00            19  zamora chinchipe       1907   \n",
       "4513          59  23/4/2020  8:00            20         galapagos       2001   \n",
       "4514          59  23/4/2020  8:00            20         galapagos       2002   \n",
       "4515          59  23/4/2020  8:00            20         galapagos       2003   \n",
       "\n",
       "             nombre_canton cerco_epid_act  Casos confirmados  \\\n",
       "4511                Zamora            NaN                 15   \n",
       "4512  centinela del condor            NaN                  3   \n",
       "4513         san cristobal            NaN                 13   \n",
       "4514               isabela            NaN                  3   \n",
       "4515            santa cruz            NaN                 38   \n",
       "\n",
       "      poblacion_canton poblacion_provincia  \n",
       "4511             32761              120416  \n",
       "4512              8313              120416  \n",
       "4513              9667               33042  \n",
       "4514              3073               33042  \n",
       "4515             20302               33042  "
      ]
     },
     "execution_count": 4,
     "metadata": {},
     "output_type": "execute_result"
    }
   ],
   "source": [
    "datos.tail()"
   ]
  },
  {
   "cell_type": "markdown",
   "metadata": {},
   "source": [
    "Una descripción estadística sencilla y rápida de los datos"
   ]
  },
  {
   "cell_type": "code",
   "execution_count": 5,
   "metadata": {},
   "outputs": [
    {
     "data": {
      "text/html": [
       "<div>\n",
       "<style scoped>\n",
       "    .dataframe tbody tr th:only-of-type {\n",
       "        vertical-align: middle;\n",
       "    }\n",
       "\n",
       "    .dataframe tbody tr th {\n",
       "        vertical-align: top;\n",
       "    }\n",
       "\n",
       "    .dataframe thead th {\n",
       "        text-align: right;\n",
       "    }\n",
       "</style>\n",
       "<table border=\"1\" class=\"dataframe\">\n",
       "  <thead>\n",
       "    <tr style=\"text-align: right;\">\n",
       "      <th></th>\n",
       "      <th>Casos confirmados</th>\n",
       "      <th>poblacion_canton</th>\n",
       "    </tr>\n",
       "  </thead>\n",
       "  <tbody>\n",
       "    <tr>\n",
       "      <th>count</th>\n",
       "      <td>4516.000000</td>\n",
       "      <td>4.516000e+03</td>\n",
       "    </tr>\n",
       "    <tr>\n",
       "      <th>mean</th>\n",
       "      <td>38.291851</td>\n",
       "      <td>1.291850e+05</td>\n",
       "    </tr>\n",
       "    <tr>\n",
       "      <th>std</th>\n",
       "      <td>275.649043</td>\n",
       "      <td>3.743567e+05</td>\n",
       "    </tr>\n",
       "    <tr>\n",
       "      <th>min</th>\n",
       "      <td>1.000000</td>\n",
       "      <td>0.000000e+00</td>\n",
       "    </tr>\n",
       "    <tr>\n",
       "      <th>25%</th>\n",
       "      <td>1.000000</td>\n",
       "      <td>2.093500e+04</td>\n",
       "    </tr>\n",
       "    <tr>\n",
       "      <th>50%</th>\n",
       "      <td>3.000000</td>\n",
       "      <td>4.500400e+04</td>\n",
       "    </tr>\n",
       "    <tr>\n",
       "      <th>75%</th>\n",
       "      <td>12.000000</td>\n",
       "      <td>9.505200e+04</td>\n",
       "    </tr>\n",
       "    <tr>\n",
       "      <th>max</th>\n",
       "      <td>5565.000000</td>\n",
       "      <td>2.781641e+06</td>\n",
       "    </tr>\n",
       "  </tbody>\n",
       "</table>\n",
       "</div>"
      ],
      "text/plain": [
       "       Casos confirmados  poblacion_canton\n",
       "count        4516.000000      4.516000e+03\n",
       "mean           38.291851      1.291850e+05\n",
       "std           275.649043      3.743567e+05\n",
       "min             1.000000      0.000000e+00\n",
       "25%             1.000000      2.093500e+04\n",
       "50%             3.000000      4.500400e+04\n",
       "75%            12.000000      9.505200e+04\n",
       "max          5565.000000      2.781641e+06"
      ]
     },
     "execution_count": 5,
     "metadata": {},
     "output_type": "execute_result"
    }
   ],
   "source": [
    "datos[['Casos confirmados', 'poblacion_canton', 'poblacion_provincia', 'cerco_epid_act']].describe()"
   ]
  },
  {
   "cell_type": "code",
   "execution_count": 6,
   "metadata": {},
   "outputs": [
    {
     "data": {
      "text/plain": [
       "nombre_provincia\n",
       "Sucumbios                     908\n",
       "azuay                        4338\n",
       "bolivar                       969\n",
       "carchi                        526\n",
       "cañar                        2419\n",
       "chimborazo                   1844\n",
       "cotopaxi                      893\n",
       "el oro                       3757\n",
       "esmeraldas                   1163\n",
       "galapagos                     569\n",
       "guayas                     120768\n",
       "imbabura                      830\n",
       "loja                         1742\n",
       "los rios                     6142\n",
       "manabi                       4833\n",
       "morona santiago               531\n",
       "napo                          123\n",
       "orellana                      145\n",
       "pastaza                       354\n",
       "pichincha                   15200\n",
       "santa elena                  2161\n",
       "santo domingo tsachilas      1490\n",
       "tungurahua                   1034\n",
       "zamora chinchipe              187\n",
       "Name: Casos confirmados, dtype: int64"
      ]
     },
     "execution_count": 6,
     "metadata": {},
     "output_type": "execute_result"
    }
   ],
   "source": [
    "# datos.plot.scatter(x='poblacion_provincia', y='Casos confirmados')\n",
    "x = datos.groupby('nombre_provincia')['Casos confirmados'].sum()\n",
    "x"
   ]
  },
  {
   "cell_type": "code",
   "execution_count": 7,
   "metadata": {},
   "outputs": [
    {
     "data": {
      "text/plain": [
       "<AxesSubplot:xlabel='nombre_provincia'>"
      ]
     },
     "execution_count": 7,
     "metadata": {},
     "output_type": "execute_result"
    },
    {
     "data": {
      "image/png": "[encoded data removed]",
      "text/plain": [
       "<Figure size 432x288 with 1 Axes>"
      ]
     },
     "metadata": {
      "needs_background": "light"
     },
     "output_type": "display_data"
    }
   ],
   "source": [
    "x.plot.bar()"
   ]
  },
  {
   "cell_type": "code",
   "execution_count": 8,
   "metadata": {},
   "outputs": [
    {
     "data": {
      "text/plain": [
       "<AxesSubplot:ylabel='Casos confirmados'>"
      ]
     },
     "execution_count": 8,
     "metadata": {},
     "output_type": "execute_result"
    },
    {
     "data": {
      "image/png": "[encoded data removed]",
      "text/plain": [
       "<Figure size 432x288 with 1 Axes>"
      ]
     },
     "metadata": {},
     "output_type": "display_data"
    }
   ],
   "source": [
    "datos.groupby('nombre_provincia')['Casos confirmados'].sum().plot.pie()"
   ]
  },
  {
   "cell_type": "code",
   "execution_count": 9,
   "metadata": {},
   "outputs": [
    {
     "data": {
      "text/html": [
       "<div>\n",
       "<style scoped>\n",
       "    .dataframe tbody tr th:only-of-type {\n",
       "        vertical-align: middle;\n",
       "    }\n",
       "\n",
       "    .dataframe tbody tr th {\n",
       "        vertical-align: top;\n",
       "    }\n",
       "\n",
       "    .dataframe thead th {\n",
       "        text-align: right;\n",
       "    }\n",
       "</style>\n",
       "<table border=\"1\" class=\"dataframe\">\n",
       "  <thead>\n",
       "    <tr style=\"text-align: right;\">\n",
       "      <th></th>\n",
       "      <th>infografia</th>\n",
       "      <th>fecha</th>\n",
       "      <th>hora</th>\n",
       "      <th>id_provincia</th>\n",
       "      <th>nombre_provincia</th>\n",
       "      <th>id_canton</th>\n",
       "      <th>nombre_canton</th>\n",
       "      <th>cerco_epid_act</th>\n",
       "      <th>Casos confirmados</th>\n",
       "      <th>poblacion_canton</th>\n",
       "      <th>poblacion_provincia</th>\n",
       "    </tr>\n",
       "  </thead>\n",
       "  <tbody>\n",
       "    <tr>\n",
       "      <th>2</th>\n",
       "      <td>2</td>\n",
       "      <td>13/3/2020</td>\n",
       "      <td>17:00</td>\n",
       "      <td>17</td>\n",
       "      <td>pichincha</td>\n",
       "      <td>1701</td>\n",
       "      <td>quito</td>\n",
       "      <td>279</td>\n",
       "      <td>4</td>\n",
       "      <td>2781641</td>\n",
       "      <td>3228233</td>\n",
       "    </tr>\n",
       "    <tr>\n",
       "      <th>7</th>\n",
       "      <td>3</td>\n",
       "      <td>14/3/2020</td>\n",
       "      <td>15:00</td>\n",
       "      <td>17</td>\n",
       "      <td>pichincha</td>\n",
       "      <td>1701</td>\n",
       "      <td>quito</td>\n",
       "      <td>317</td>\n",
       "      <td>4</td>\n",
       "      <td>2781641</td>\n",
       "      <td>3228233</td>\n",
       "    </tr>\n",
       "    <tr>\n",
       "      <th>12</th>\n",
       "      <td>5</td>\n",
       "      <td>15/3/2020</td>\n",
       "      <td>18:00</td>\n",
       "      <td>17</td>\n",
       "      <td>pichincha</td>\n",
       "      <td>1701</td>\n",
       "      <td>quito</td>\n",
       "      <td>273</td>\n",
       "      <td>6</td>\n",
       "      <td>2781641</td>\n",
       "      <td>3228233</td>\n",
       "    </tr>\n",
       "    <tr>\n",
       "      <th>24</th>\n",
       "      <td>7</td>\n",
       "      <td>16/3/2020</td>\n",
       "      <td>16:00</td>\n",
       "      <td>17</td>\n",
       "      <td>pichincha</td>\n",
       "      <td>1701</td>\n",
       "      <td>quito</td>\n",
       "      <td>315</td>\n",
       "      <td>8</td>\n",
       "      <td>2781641</td>\n",
       "      <td>3228233</td>\n",
       "    </tr>\n",
       "    <tr>\n",
       "      <th>38</th>\n",
       "      <td>9</td>\n",
       "      <td>17/3/2020</td>\n",
       "      <td>9:00</td>\n",
       "      <td>17</td>\n",
       "      <td>pichincha</td>\n",
       "      <td>1701</td>\n",
       "      <td>quito</td>\n",
       "      <td>451</td>\n",
       "      <td>8</td>\n",
       "      <td>2781641</td>\n",
       "      <td>3228233</td>\n",
       "    </tr>\n",
       "    <tr>\n",
       "      <th>...</th>\n",
       "      <td>...</td>\n",
       "      <td>...</td>\n",
       "      <td>...</td>\n",
       "      <td>...</td>\n",
       "      <td>...</td>\n",
       "      <td>...</td>\n",
       "      <td>...</td>\n",
       "      <td>...</td>\n",
       "      <td>...</td>\n",
       "      <td>...</td>\n",
       "      <td>...</td>\n",
       "    </tr>\n",
       "    <tr>\n",
       "      <th>4478</th>\n",
       "      <td>59</td>\n",
       "      <td>23/4/2020</td>\n",
       "      <td>8:00</td>\n",
       "      <td>17</td>\n",
       "      <td>pichincha</td>\n",
       "      <td>1701</td>\n",
       "      <td>quito</td>\n",
       "      <td>NaN</td>\n",
       "      <td>919</td>\n",
       "      <td>2781641</td>\n",
       "      <td>3228233</td>\n",
       "    </tr>\n",
       "    <tr>\n",
       "      <th>4479</th>\n",
       "      <td>59</td>\n",
       "      <td>23/4/2020</td>\n",
       "      <td>8:00</td>\n",
       "      <td>17</td>\n",
       "      <td>pichincha</td>\n",
       "      <td>1704</td>\n",
       "      <td>pedro moncayo</td>\n",
       "      <td>NaN</td>\n",
       "      <td>2</td>\n",
       "      <td>43281</td>\n",
       "      <td>3228233</td>\n",
       "    </tr>\n",
       "    <tr>\n",
       "      <th>4480</th>\n",
       "      <td>59</td>\n",
       "      <td>23/4/2020</td>\n",
       "      <td>8:00</td>\n",
       "      <td>17</td>\n",
       "      <td>pichincha</td>\n",
       "      <td>1702</td>\n",
       "      <td>cayambe</td>\n",
       "      <td>NaN</td>\n",
       "      <td>1</td>\n",
       "      <td>107660</td>\n",
       "      <td>3228233</td>\n",
       "    </tr>\n",
       "    <tr>\n",
       "      <th>4481</th>\n",
       "      <td>59</td>\n",
       "      <td>23/4/2020</td>\n",
       "      <td>8:00</td>\n",
       "      <td>17</td>\n",
       "      <td>pichincha</td>\n",
       "      <td>1709</td>\n",
       "      <td>puerto quito</td>\n",
       "      <td>NaN</td>\n",
       "      <td>2</td>\n",
       "      <td>24911</td>\n",
       "      <td>3228233</td>\n",
       "    </tr>\n",
       "    <tr>\n",
       "      <th>4482</th>\n",
       "      <td>59</td>\n",
       "      <td>23/4/2020</td>\n",
       "      <td>8:00</td>\n",
       "      <td>17</td>\n",
       "      <td>pichincha</td>\n",
       "      <td>1705</td>\n",
       "      <td>rumiñahui</td>\n",
       "      <td>NaN</td>\n",
       "      <td>39</td>\n",
       "      <td>115433</td>\n",
       "      <td>3228233</td>\n",
       "    </tr>\n",
       "  </tbody>\n",
       "</table>\n",
       "<p>181 rows × 11 columns</p>\n",
       "</div>"
      ],
      "text/plain": [
       "      infografia      fecha   hora  id_provincia nombre_provincia  id_canton  \\\n",
       "2              2  13/3/2020  17:00            17        pichincha       1701   \n",
       "7              3  14/3/2020  15:00            17        pichincha       1701   \n",
       "12             5  15/3/2020  18:00            17        pichincha       1701   \n",
       "24             7  16/3/2020  16:00            17        pichincha       1701   \n",
       "38             9  17/3/2020   9:00            17        pichincha       1701   \n",
       "...          ...        ...    ...           ...              ...        ...   \n",
       "4478          59  23/4/2020   8:00            17        pichincha       1701   \n",
       "4479          59  23/4/2020   8:00            17        pichincha       1704   \n",
       "4480          59  23/4/2020   8:00            17        pichincha       1702   \n",
       "4481          59  23/4/2020   8:00            17        pichincha       1709   \n",
       "4482          59  23/4/2020   8:00            17        pichincha       1705   \n",
       "\n",
       "      nombre_canton cerco_epid_act  Casos confirmados  poblacion_canton  \\\n",
       "2             quito            279                  4           2781641   \n",
       "7             quito            317                  4           2781641   \n",
       "12            quito            273                  6           2781641   \n",
       "24            quito            315                  8           2781641   \n",
       "38            quito            451                  8           2781641   \n",
       "...             ...            ...                ...               ...   \n",
       "4478          quito            NaN                919           2781641   \n",
       "4479  pedro moncayo            NaN                  2             43281   \n",
       "4480        cayambe            NaN                  1            107660   \n",
       "4481   puerto quito            NaN                  2             24911   \n",
       "4482      rumiñahui            NaN                 39            115433   \n",
       "\n",
       "     poblacion_provincia  \n",
       "2                3228233  \n",
       "7                3228233  \n",
       "12               3228233  \n",
       "24               3228233  \n",
       "38               3228233  \n",
       "...                  ...  \n",
       "4478             3228233  \n",
       "4479             3228233  \n",
       "4480             3228233  \n",
       "4481             3228233  \n",
       "4482             3228233  \n",
       "\n",
       "[181 rows x 11 columns]"
      ]
     },
     "execution_count": 9,
     "metadata": {},
     "output_type": "execute_result"
    }
   ],
   "source": [
    "pichincha_df = datos[datos['nombre_provincia']=='pichincha']\n",
    "pichincha_df"
   ]
  },
  {
   "cell_type": "code",
   "execution_count": 10,
   "metadata": {},
   "outputs": [
    {
     "data": {
      "text/plain": [
       "(181, 11)"
      ]
     },
     "execution_count": 10,
     "metadata": {},
     "output_type": "execute_result"
    }
   ],
   "source": [
    "pichincha_df.shape"
   ]
  },
  {
   "cell_type": "code",
   "execution_count": 11,
   "metadata": {},
   "outputs": [
    {
     "data": {
      "text/plain": [
       "infografia              int64\n",
       "fecha                  object\n",
       "hora                   object\n",
       "id_provincia            int64\n",
       "nombre_provincia       object\n",
       "id_canton               int64\n",
       "nombre_canton          object\n",
       "cerco_epid_act         object\n",
       "Casos confirmados       int64\n",
       "poblacion_canton        int64\n",
       "poblacion_provincia    object\n",
       "dtype: object"
      ]
     },
     "execution_count": 11,
     "metadata": {},
     "output_type": "execute_result"
    }
   ],
   "source": [
    "pichincha_df.dtypes"
   ]
  },
  {
   "cell_type": "code",
   "execution_count": 12,
   "metadata": {},
   "outputs": [
    {
     "data": {
      "text/html": [
       "<div>\n",
       "<style scoped>\n",
       "    .dataframe tbody tr th:only-of-type {\n",
       "        vertical-align: middle;\n",
       "    }\n",
       "\n",
       "    .dataframe tbody tr th {\n",
       "        vertical-align: top;\n",
       "    }\n",
       "\n",
       "    .dataframe thead th {\n",
       "        text-align: right;\n",
       "    }\n",
       "</style>\n",
       "<table border=\"1\" class=\"dataframe\">\n",
       "  <thead>\n",
       "    <tr style=\"text-align: right;\">\n",
       "      <th></th>\n",
       "      <th>infografia</th>\n",
       "      <th>id_provincia</th>\n",
       "      <th>id_canton</th>\n",
       "      <th>Casos confirmados</th>\n",
       "      <th>poblacion_canton</th>\n",
       "    </tr>\n",
       "  </thead>\n",
       "  <tbody>\n",
       "    <tr>\n",
       "      <th>count</th>\n",
       "      <td>181.000000</td>\n",
       "      <td>181.0</td>\n",
       "      <td>181.000000</td>\n",
       "      <td>181.000000</td>\n",
       "      <td>1.810000e+02</td>\n",
       "    </tr>\n",
       "    <tr>\n",
       "      <th>mean</th>\n",
       "      <td>43.044199</td>\n",
       "      <td>17.0</td>\n",
       "      <td>1703.994475</td>\n",
       "      <td>83.977901</td>\n",
       "      <td>7.028997e+05</td>\n",
       "    </tr>\n",
       "    <tr>\n",
       "      <th>std</th>\n",
       "      <td>12.822213</td>\n",
       "      <td>0.0</td>\n",
       "      <td>2.544050</td>\n",
       "      <td>195.833148</td>\n",
       "      <td>1.146425e+06</td>\n",
       "    </tr>\n",
       "    <tr>\n",
       "      <th>min</th>\n",
       "      <td>2.000000</td>\n",
       "      <td>17.0</td>\n",
       "      <td>1701.000000</td>\n",
       "      <td>1.000000</td>\n",
       "      <td>1.717100e+04</td>\n",
       "    </tr>\n",
       "    <tr>\n",
       "      <th>25%</th>\n",
       "      <td>37.000000</td>\n",
       "      <td>17.0</td>\n",
       "      <td>1702.000000</td>\n",
       "      <td>2.000000</td>\n",
       "      <td>4.328100e+04</td>\n",
       "    </tr>\n",
       "    <tr>\n",
       "      <th>50%</th>\n",
       "      <td>46.000000</td>\n",
       "      <td>17.0</td>\n",
       "      <td>1704.000000</td>\n",
       "      <td>4.000000</td>\n",
       "      <td>1.081670e+05</td>\n",
       "    </tr>\n",
       "    <tr>\n",
       "      <th>75%</th>\n",
       "      <td>53.000000</td>\n",
       "      <td>17.0</td>\n",
       "      <td>1705.000000</td>\n",
       "      <td>24.000000</td>\n",
       "      <td>1.154330e+05</td>\n",
       "    </tr>\n",
       "    <tr>\n",
       "      <th>max</th>\n",
       "      <td>59.000000</td>\n",
       "      <td>17.0</td>\n",
       "      <td>1709.000000</td>\n",
       "      <td>919.000000</td>\n",
       "      <td>2.781641e+06</td>\n",
       "    </tr>\n",
       "  </tbody>\n",
       "</table>\n",
       "</div>"
      ],
      "text/plain": [
       "       infografia  id_provincia    id_canton  Casos confirmados  \\\n",
       "count  181.000000         181.0   181.000000         181.000000   \n",
       "mean    43.044199          17.0  1703.994475          83.977901   \n",
       "std     12.822213           0.0     2.544050         195.833148   \n",
       "min      2.000000          17.0  1701.000000           1.000000   \n",
       "25%     37.000000          17.0  1702.000000           2.000000   \n",
       "50%     46.000000          17.0  1704.000000           4.000000   \n",
       "75%     53.000000          17.0  1705.000000          24.000000   \n",
       "max     59.000000          17.0  1709.000000         919.000000   \n",
       "\n",
       "       poblacion_canton  \n",
       "count      1.810000e+02  \n",
       "mean       7.028997e+05  \n",
       "std        1.146425e+06  \n",
       "min        1.717100e+04  \n",
       "25%        4.328100e+04  \n",
       "50%        1.081670e+05  \n",
       "75%        1.154330e+05  \n",
       "max        2.781641e+06  "
      ]
     },
     "execution_count": 12,
     "metadata": {},
     "output_type": "execute_result"
    }
   ],
   "source": [
    "pichincha_df.describe()"
   ]
  },
  {
   "cell_type": "code",
   "execution_count": 13,
   "metadata": {},
   "outputs": [
    {
     "data": {
      "text/plain": [
       "nombre_canton\n",
       "cayambe                       63\n",
       "mejia                        344\n",
       "pedro moncayo                 40\n",
       "pedro vicente maldonado       75\n",
       "puerto quito                  10\n",
       "quito                      14090\n",
       "rumiñahui                    578\n",
       "Name: Casos confirmados, dtype: int64"
      ]
     },
     "execution_count": 13,
     "metadata": {},
     "output_type": "execute_result"
    }
   ],
   "source": [
    "pichincha_df.groupby('nombre_canton')['Casos confirmados'].sum()"
   ]
  },
  {
   "cell_type": "code",
   "execution_count": 14,
   "metadata": {},
   "outputs": [
    {
     "data": {
      "text/plain": [
       "fecha\n",
       "1/4/2020     248\n",
       "10/4/2020    579\n",
       "11/4/2020    606\n",
       "12/4/2020    627\n",
       "13/3/2020      4\n",
       "13/4/2020    634\n",
       "14/3/2020      4\n",
       "14/4/2020    646\n",
       "15/3/2020      6\n",
       "15/4/2020    674\n",
       "16/3/2020      8\n",
       "16/4/2020    736\n",
       "17/3/2020      8\n",
       "17/4/2020    779\n",
       "18/3/2020     12\n",
       "18/4/2020    794\n",
       "19/3/2020     16\n",
       "19/4/2020    819\n",
       "2/4/2020     259\n",
       "20/3/2020     35\n",
       "20/4/2020    841\n",
       "21/3/2020     50\n",
       "21/4/2020    868\n",
       "22/3/2020     60\n",
       "22/4/2020    926\n",
       "23/3/2020     65\n",
       "23/4/2020    991\n",
       "24/3/2020     72\n",
       "25/3/2020    108\n",
       "26/3/2020    121\n",
       "27/3/2020    137\n",
       "28/3/2020    171\n",
       "29/3/2020    188\n",
       "3/4/2020     285\n",
       "30/3/2020    191\n",
       "31/3/2020    219\n",
       "4/4/2020     321\n",
       "5/4/2020     345\n",
       "6/4/2020     395\n",
       "7/4/2020     418\n",
       "8/4/2020     440\n",
       "9/4/2020     494\n",
       "Name: Casos confirmados, dtype: int64"
      ]
     },
     "execution_count": 14,
     "metadata": {},
     "output_type": "execute_result"
    }
   ],
   "source": [
    "pichincha_df.groupby('fecha')['Casos confirmados'].sum()"
   ]
  },
  {
   "cell_type": "code",
   "execution_count": 15,
   "metadata": {},
   "outputs": [
    {
     "name": "stdout",
     "output_type": "stream",
     "text": [
      "13/3/2020\n",
      "<class 'str'>\n"
     ]
    }
   ],
   "source": [
    "print(pichincha_df['fecha'].iloc[0])\n",
    "print(type(pichincha_df['fecha'].iloc[0]))"
   ]
  },
  {
   "cell_type": "code",
   "execution_count": 16,
   "metadata": {},
   "outputs": [
    {
     "name": "stderr",
     "output_type": "stream",
     "text": [
      "/home/leninml/anaconda3/envs/tfv2Cuda10.1/lib/python3.8/site-packages/pandas/core/indexing.py:1745: SettingWithCopyWarning: \n",
      "A value is trying to be set on a copy of a slice from a DataFrame.\n",
      "Try using .loc[row_indexer,col_indexer] = value instead\n",
      "\n",
      "See the caveats in the documentation: https://pandas.pydata.org/pandas-docs/stable/user_guide/indexing.html#returning-a-view-versus-a-copy\n",
      "  isetter(ilocs[0], value)\n"
     ]
    }
   ],
   "source": [
    "import datetime\n",
    "# pichincha_df['fecha'] = pichincha_df['fecha'].apply(lambda x: datetime.datetime.strptime(x, '%d/%m/%Y')\n",
    "pichincha_df.loc[:,('fecha')] = pichincha_df['fecha'].apply(lambda x: datetime.datetime.strptime(x, '%d/%m/%Y'))"
   ]
  },
  {
   "cell_type": "code",
   "execution_count": 17,
   "metadata": {},
   "outputs": [
    {
     "name": "stdout",
     "output_type": "stream",
     "text": [
      "2020-03-13 00:00:00\n",
      "<class 'pandas._libs.tslibs.timestamps.Timestamp'>\n"
     ]
    }
   ],
   "source": [
    "print(pichincha_df['fecha'].iloc[0])\n",
    "print(type(pichincha_df['fecha'].iloc[0]))"
   ]
  },
  {
   "cell_type": "code",
   "execution_count": 18,
   "metadata": {},
   "outputs": [
    {
     "data": {
      "text/plain": [
       "fecha\n",
       "2020-03-13      4\n",
       "2020-03-14      4\n",
       "2020-03-15      6\n",
       "2020-03-16      8\n",
       "2020-03-17      8\n",
       "2020-03-18     12\n",
       "2020-03-19     16\n",
       "2020-03-20     35\n",
       "2020-03-21     50\n",
       "2020-03-22     60\n",
       "2020-03-23     65\n",
       "2020-03-24     72\n",
       "2020-03-25    108\n",
       "2020-03-26    121\n",
       "2020-03-27    137\n",
       "2020-03-28    171\n",
       "2020-03-29    188\n",
       "2020-03-30    191\n",
       "2020-03-31    219\n",
       "2020-04-01    248\n",
       "2020-04-02    259\n",
       "2020-04-03    285\n",
       "2020-04-04    321\n",
       "2020-04-05    345\n",
       "2020-04-06    395\n",
       "2020-04-07    418\n",
       "2020-04-08    440\n",
       "2020-04-09    494\n",
       "2020-04-10    579\n",
       "2020-04-11    606\n",
       "2020-04-12    627\n",
       "2020-04-13    634\n",
       "2020-04-14    646\n",
       "2020-04-15    674\n",
       "2020-04-16    736\n",
       "2020-04-17    779\n",
       "2020-04-18    794\n",
       "2020-04-19    819\n",
       "2020-04-20    841\n",
       "2020-04-21    868\n",
       "2020-04-22    926\n",
       "2020-04-23    991\n",
       "Name: Casos confirmados, dtype: int64"
      ]
     },
     "execution_count": 18,
     "metadata": {},
     "output_type": "execute_result"
    }
   ],
   "source": [
    "pichincha_df.groupby('fecha')['Casos confirmados'].sum()"
   ]
  },
  {
   "cell_type": "code",
   "execution_count": 19,
   "metadata": {},
   "outputs": [
    {
     "data": {
      "text/plain": [
       "<AxesSubplot:xlabel='fecha'>"
      ]
     },
     "execution_count": 19,
     "metadata": {},
     "output_type": "execute_result"
    },
    {
     "data": {
      "image/png": "[encoded data removed]",
      "text/plain": [
       "<Figure size 432x288 with 1 Axes>"
      ]
     },
     "metadata": {
      "needs_background": "light"
     },
     "output_type": "display_data"
    }
   ],
   "source": [
    "pichincha_df.groupby('fecha')['Casos confirmados'].sum().plot.line()"
   ]
  }
 ],
 "metadata": {
  "kernelspec": {
   "display_name": "Python 3",
   "language": "python",
   "name": "python3"
  },
  "language_info": {
   "codemirror_mode": {
    "name": "ipython",
    "version": 3
   },
   "file_extension": ".py",
   "mimetype": "text/x-python",
   "name": "python",
   "nbconvert_exporter": "python",
   "pygments_lexer": "ipython3",
   "version": "3.7.3"
  }
 },
 "nbformat": 4,
 "nbformat_minor": 2
}
