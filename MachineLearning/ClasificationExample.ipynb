{
 "cells": [
  {
   "cell_type": "markdown",
   "metadata": {
    "id": "qG1ZmMFinTp9"
   },
   "source": [
    "## Obtener un modelo de Red Neuronal Artificial para Clasificación\n",
    "\n",
    "Datos: se proporciona un dataset con información crediticia de diferentes clientes en formato **csv**\n",
    "\n",
    "Resultado: categorizar al cliente como **fiel** o no **fiel**"
   ]
  },
  {
   "cell_type": "code",
   "execution_count": 1,
   "metadata": {
    "colab": {
     "base_uri": "https://localhost:8080/"
    },
    "id": "boWeT8e8pUre",
    "outputId": "d7c56532-4563-42ff-8daa-bc5256ea5b0a"
   },
   "outputs": [
    {
     "name": "stdout",
     "output_type": "stream",
     "text": [
      "local dir: /home/leninml/JuppyterLenno2/Curso_MachineLearning_Python_EPN2019_IEEE/MachineLearning\n",
      "['cache', 'MachineLearning.ipynb', 'credit_card_data.csv', '.ipynb_checkpoints', 'images', 'ClasificationExample.ipynb']\n"
     ]
    }
   ],
   "source": [
    "import numpy as np\n",
    "import pandas as pd\n",
    "import os\n",
    "print('local dir: {}'.format(os.getcwd())) \n",
    "print(os.listdir(os.getcwd()))"
   ]
  },
  {
   "cell_type": "markdown",
   "metadata": {
    "id": "5HjP9N7DpZ4u"
   },
   "source": [
    "Revisando el dataset"
   ]
  },
  {
   "cell_type": "code",
   "execution_count": 2,
   "metadata": {
    "colab": {
     "base_uri": "https://localhost:8080/",
     "height": 427
    },
    "id": "v8D52oRip9p1",
    "outputId": "1fe453f0-6927-464a-d8ad-34f5a9e04b0e"
   },
   "outputs": [
    {
     "data": {
      "text/html": [
       "<div>\n",
       "<style scoped>\n",
       "    .dataframe tbody tr th:only-of-type {\n",
       "        vertical-align: middle;\n",
       "    }\n",
       "\n",
       "    .dataframe tbody tr th {\n",
       "        vertical-align: top;\n",
       "    }\n",
       "\n",
       "    .dataframe thead th {\n",
       "        text-align: right;\n",
       "    }\n",
       "</style>\n",
       "<table border=\"1\" class=\"dataframe\">\n",
       "  <thead>\n",
       "    <tr style=\"text-align: right;\">\n",
       "      <th></th>\n",
       "      <th>CUST_ID</th>\n",
       "      <th>AVG_BALANCE</th>\n",
       "      <th>TENURE</th>\n",
       "      <th>NUM_TRANS</th>\n",
       "      <th>ACCESSORIES</th>\n",
       "      <th>APPLIANCES</th>\n",
       "      <th>CULTURE</th>\n",
       "      <th>GAS</th>\n",
       "      <th>BOOKS</th>\n",
       "      <th>APPAREL</th>\n",
       "      <th>FITNESS</th>\n",
       "      <th>EDUCATION</th>\n",
       "      <th>ENTERTAINMENT</th>\n",
       "      <th>FOOD</th>\n",
       "      <th>HEALTH</th>\n",
       "      <th>HOME_GARDEN</th>\n",
       "      <th>TELCOS</th>\n",
       "      <th>TRAVEL</th>\n",
       "      <th>PURCHASES_AMOUNT</th>\n",
       "      <th>LOYALTY</th>\n",
       "    </tr>\n",
       "  </thead>\n",
       "  <tbody>\n",
       "    <tr>\n",
       "      <th>0</th>\n",
       "      <td>C10001</td>\n",
       "      <td>3044.993177</td>\n",
       "      <td>12</td>\n",
       "      <td>11.006688</td>\n",
       "      <td>0.000000</td>\n",
       "      <td>2168.506639</td>\n",
       "      <td>0.0</td>\n",
       "      <td>0.000000</td>\n",
       "      <td>0.0</td>\n",
       "      <td>0.000000</td>\n",
       "      <td>0.0</td>\n",
       "      <td>0.0</td>\n",
       "      <td>0.000000</td>\n",
       "      <td>0.000000</td>\n",
       "      <td>0.000000</td>\n",
       "      <td>0.000000</td>\n",
       "      <td>0.0</td>\n",
       "      <td>0.0</td>\n",
       "      <td>2168.506639</td>\n",
       "      <td>1</td>\n",
       "    </tr>\n",
       "    <tr>\n",
       "      <th>1</th>\n",
       "      <td>C10002</td>\n",
       "      <td>81.927748</td>\n",
       "      <td>12</td>\n",
       "      <td>0.985254</td>\n",
       "      <td>0.000000</td>\n",
       "      <td>1779.354561</td>\n",
       "      <td>0.0</td>\n",
       "      <td>0.000000</td>\n",
       "      <td>0.0</td>\n",
       "      <td>0.000000</td>\n",
       "      <td>0.0</td>\n",
       "      <td>0.0</td>\n",
       "      <td>0.000000</td>\n",
       "      <td>0.000000</td>\n",
       "      <td>0.000000</td>\n",
       "      <td>0.000000</td>\n",
       "      <td>0.0</td>\n",
       "      <td>0.0</td>\n",
       "      <td>1779.354561</td>\n",
       "      <td>0</td>\n",
       "    </tr>\n",
       "    <tr>\n",
       "      <th>2</th>\n",
       "      <td>C10003</td>\n",
       "      <td>1345.213562</td>\n",
       "      <td>12</td>\n",
       "      <td>2.830550</td>\n",
       "      <td>0.000000</td>\n",
       "      <td>0.000000</td>\n",
       "      <td>0.0</td>\n",
       "      <td>163.266045</td>\n",
       "      <td>0.0</td>\n",
       "      <td>1590.748309</td>\n",
       "      <td>0.0</td>\n",
       "      <td>0.0</td>\n",
       "      <td>0.000000</td>\n",
       "      <td>0.000000</td>\n",
       "      <td>0.000000</td>\n",
       "      <td>0.000000</td>\n",
       "      <td>0.0</td>\n",
       "      <td>0.0</td>\n",
       "      <td>1754.014354</td>\n",
       "      <td>0</td>\n",
       "    </tr>\n",
       "    <tr>\n",
       "      <th>3</th>\n",
       "      <td>C10004</td>\n",
       "      <td>3193.925166</td>\n",
       "      <td>12</td>\n",
       "      <td>0.000000</td>\n",
       "      <td>0.000000</td>\n",
       "      <td>0.000000</td>\n",
       "      <td>0.0</td>\n",
       "      <td>0.000000</td>\n",
       "      <td>0.0</td>\n",
       "      <td>0.000000</td>\n",
       "      <td>0.0</td>\n",
       "      <td>0.0</td>\n",
       "      <td>0.000000</td>\n",
       "      <td>0.000000</td>\n",
       "      <td>0.000000</td>\n",
       "      <td>0.000000</td>\n",
       "      <td>0.0</td>\n",
       "      <td>0.0</td>\n",
       "      <td>0.000000</td>\n",
       "      <td>0</td>\n",
       "    </tr>\n",
       "    <tr>\n",
       "      <th>4</th>\n",
       "      <td>C10005</td>\n",
       "      <td>284.286718</td>\n",
       "      <td>7</td>\n",
       "      <td>11.757291</td>\n",
       "      <td>0.000000</td>\n",
       "      <td>189.991137</td>\n",
       "      <td>0.0</td>\n",
       "      <td>628.363089</td>\n",
       "      <td>0.0</td>\n",
       "      <td>0.000000</td>\n",
       "      <td>0.0</td>\n",
       "      <td>0.0</td>\n",
       "      <td>0.000000</td>\n",
       "      <td>29.831540</td>\n",
       "      <td>58.269684</td>\n",
       "      <td>61.882977</td>\n",
       "      <td>0.0</td>\n",
       "      <td>0.0</td>\n",
       "      <td>968.338427</td>\n",
       "      <td>0</td>\n",
       "    </tr>\n",
       "    <tr>\n",
       "      <th>...</th>\n",
       "      <td>...</td>\n",
       "      <td>...</td>\n",
       "      <td>...</td>\n",
       "      <td>...</td>\n",
       "      <td>...</td>\n",
       "      <td>...</td>\n",
       "      <td>...</td>\n",
       "      <td>...</td>\n",
       "      <td>...</td>\n",
       "      <td>...</td>\n",
       "      <td>...</td>\n",
       "      <td>...</td>\n",
       "      <td>...</td>\n",
       "      <td>...</td>\n",
       "      <td>...</td>\n",
       "      <td>...</td>\n",
       "      <td>...</td>\n",
       "      <td>...</td>\n",
       "      <td>...</td>\n",
       "      <td>...</td>\n",
       "    </tr>\n",
       "    <tr>\n",
       "      <th>18966</th>\n",
       "      <td>C28967</td>\n",
       "      <td>433.941742</td>\n",
       "      <td>6</td>\n",
       "      <td>0.000000</td>\n",
       "      <td>0.000000</td>\n",
       "      <td>0.000000</td>\n",
       "      <td>0.0</td>\n",
       "      <td>0.000000</td>\n",
       "      <td>0.0</td>\n",
       "      <td>0.000000</td>\n",
       "      <td>0.0</td>\n",
       "      <td>0.0</td>\n",
       "      <td>0.000000</td>\n",
       "      <td>0.000000</td>\n",
       "      <td>0.000000</td>\n",
       "      <td>0.000000</td>\n",
       "      <td>0.0</td>\n",
       "      <td>0.0</td>\n",
       "      <td>0.000000</td>\n",
       "      <td>0</td>\n",
       "    </tr>\n",
       "    <tr>\n",
       "      <th>18967</th>\n",
       "      <td>C28968</td>\n",
       "      <td>745.654579</td>\n",
       "      <td>6</td>\n",
       "      <td>0.000000</td>\n",
       "      <td>0.000000</td>\n",
       "      <td>0.000000</td>\n",
       "      <td>0.0</td>\n",
       "      <td>0.000000</td>\n",
       "      <td>0.0</td>\n",
       "      <td>0.000000</td>\n",
       "      <td>0.0</td>\n",
       "      <td>0.0</td>\n",
       "      <td>0.000000</td>\n",
       "      <td>0.000000</td>\n",
       "      <td>0.000000</td>\n",
       "      <td>0.000000</td>\n",
       "      <td>0.0</td>\n",
       "      <td>0.0</td>\n",
       "      <td>0.000000</td>\n",
       "      <td>0</td>\n",
       "    </tr>\n",
       "    <tr>\n",
       "      <th>18968</th>\n",
       "      <td>C28969</td>\n",
       "      <td>244.651399</td>\n",
       "      <td>6</td>\n",
       "      <td>3.734193</td>\n",
       "      <td>0.000000</td>\n",
       "      <td>0.000000</td>\n",
       "      <td>0.0</td>\n",
       "      <td>0.000000</td>\n",
       "      <td>0.0</td>\n",
       "      <td>926.602407</td>\n",
       "      <td>0.0</td>\n",
       "      <td>0.0</td>\n",
       "      <td>0.000000</td>\n",
       "      <td>0.000000</td>\n",
       "      <td>0.000000</td>\n",
       "      <td>0.000000</td>\n",
       "      <td>0.0</td>\n",
       "      <td>0.0</td>\n",
       "      <td>926.602407</td>\n",
       "      <td>0</td>\n",
       "    </tr>\n",
       "    <tr>\n",
       "      <th>18969</th>\n",
       "      <td>C28970</td>\n",
       "      <td>395.937201</td>\n",
       "      <td>6</td>\n",
       "      <td>5.452103</td>\n",
       "      <td>0.000000</td>\n",
       "      <td>0.000000</td>\n",
       "      <td>0.0</td>\n",
       "      <td>0.000000</td>\n",
       "      <td>0.0</td>\n",
       "      <td>0.000000</td>\n",
       "      <td>0.0</td>\n",
       "      <td>0.0</td>\n",
       "      <td>0.000000</td>\n",
       "      <td>0.000000</td>\n",
       "      <td>564.666947</td>\n",
       "      <td>0.000000</td>\n",
       "      <td>0.0</td>\n",
       "      <td>0.0</td>\n",
       "      <td>564.666947</td>\n",
       "      <td>0</td>\n",
       "    </tr>\n",
       "    <tr>\n",
       "      <th>18970</th>\n",
       "      <td>C28971</td>\n",
       "      <td>390.658988</td>\n",
       "      <td>6</td>\n",
       "      <td>21.949723</td>\n",
       "      <td>50.216103</td>\n",
       "      <td>0.000000</td>\n",
       "      <td>0.0</td>\n",
       "      <td>0.000000</td>\n",
       "      <td>0.0</td>\n",
       "      <td>453.646072</td>\n",
       "      <td>0.0</td>\n",
       "      <td>0.0</td>\n",
       "      <td>456.318301</td>\n",
       "      <td>112.869012</td>\n",
       "      <td>92.341615</td>\n",
       "      <td>0.000000</td>\n",
       "      <td>0.0</td>\n",
       "      <td>0.0</td>\n",
       "      <td>1165.391103</td>\n",
       "      <td>0</td>\n",
       "    </tr>\n",
       "  </tbody>\n",
       "</table>\n",
       "<p>18971 rows × 20 columns</p>\n",
       "</div>"
      ],
      "text/plain": [
       "      CUST_ID  AVG_BALANCE  TENURE  NUM_TRANS  ACCESSORIES   APPLIANCES  \\\n",
       "0      C10001  3044.993177      12  11.006688     0.000000  2168.506639   \n",
       "1      C10002    81.927748      12   0.985254     0.000000  1779.354561   \n",
       "2      C10003  1345.213562      12   2.830550     0.000000     0.000000   \n",
       "3      C10004  3193.925166      12   0.000000     0.000000     0.000000   \n",
       "4      C10005   284.286718       7  11.757291     0.000000   189.991137   \n",
       "...       ...          ...     ...        ...          ...          ...   \n",
       "18966  C28967   433.941742       6   0.000000     0.000000     0.000000   \n",
       "18967  C28968   745.654579       6   0.000000     0.000000     0.000000   \n",
       "18968  C28969   244.651399       6   3.734193     0.000000     0.000000   \n",
       "18969  C28970   395.937201       6   5.452103     0.000000     0.000000   \n",
       "18970  C28971   390.658988       6  21.949723    50.216103     0.000000   \n",
       "\n",
       "       CULTURE         GAS  BOOKS      APPAREL  FITNESS  EDUCATION  \\\n",
       "0          0.0    0.000000    0.0     0.000000      0.0        0.0   \n",
       "1          0.0    0.000000    0.0     0.000000      0.0        0.0   \n",
       "2          0.0  163.266045    0.0  1590.748309      0.0        0.0   \n",
       "3          0.0    0.000000    0.0     0.000000      0.0        0.0   \n",
       "4          0.0  628.363089    0.0     0.000000      0.0        0.0   \n",
       "...        ...         ...    ...          ...      ...        ...   \n",
       "18966      0.0    0.000000    0.0     0.000000      0.0        0.0   \n",
       "18967      0.0    0.000000    0.0     0.000000      0.0        0.0   \n",
       "18968      0.0    0.000000    0.0   926.602407      0.0        0.0   \n",
       "18969      0.0    0.000000    0.0     0.000000      0.0        0.0   \n",
       "18970      0.0    0.000000    0.0   453.646072      0.0        0.0   \n",
       "\n",
       "       ENTERTAINMENT        FOOD      HEALTH  HOME_GARDEN  TELCOS  TRAVEL  \\\n",
       "0           0.000000    0.000000    0.000000     0.000000     0.0     0.0   \n",
       "1           0.000000    0.000000    0.000000     0.000000     0.0     0.0   \n",
       "2           0.000000    0.000000    0.000000     0.000000     0.0     0.0   \n",
       "3           0.000000    0.000000    0.000000     0.000000     0.0     0.0   \n",
       "4           0.000000   29.831540   58.269684    61.882977     0.0     0.0   \n",
       "...              ...         ...         ...          ...     ...     ...   \n",
       "18966       0.000000    0.000000    0.000000     0.000000     0.0     0.0   \n",
       "18967       0.000000    0.000000    0.000000     0.000000     0.0     0.0   \n",
       "18968       0.000000    0.000000    0.000000     0.000000     0.0     0.0   \n",
       "18969       0.000000    0.000000  564.666947     0.000000     0.0     0.0   \n",
       "18970     456.318301  112.869012   92.341615     0.000000     0.0     0.0   \n",
       "\n",
       "       PURCHASES_AMOUNT  LOYALTY  \n",
       "0           2168.506639        1  \n",
       "1           1779.354561        0  \n",
       "2           1754.014354        0  \n",
       "3              0.000000        0  \n",
       "4            968.338427        0  \n",
       "...                 ...      ...  \n",
       "18966          0.000000        0  \n",
       "18967          0.000000        0  \n",
       "18968        926.602407        0  \n",
       "18969        564.666947        0  \n",
       "18970       1165.391103        0  \n",
       "\n",
       "[18971 rows x 20 columns]"
      ]
     },
     "execution_count": 2,
     "metadata": {},
     "output_type": "execute_result"
    }
   ],
   "source": [
    "datos_df = pd.read_csv('credit_card_data.csv')\n",
    "datos_df"
   ]
  },
  {
   "cell_type": "markdown",
   "metadata": {
    "id": "pQtps8Nqqjvl"
   },
   "source": [
    "Existen algunas columnas que no tienen interés para el problema y que deben ser eliminadas"
   ]
  },
  {
   "cell_type": "code",
   "execution_count": 3,
   "metadata": {
    "colab": {
     "base_uri": "https://localhost:8080/"
    },
    "id": "8J08v9PMqqkv",
    "outputId": "c8c248e1-48b5-4770-80e8-8338b367dcf4"
   },
   "outputs": [
    {
     "data": {
      "text/plain": [
       "Index(['CUST_ID', 'AVG_BALANCE', 'TENURE', 'NUM_TRANS', 'ACCESSORIES',\n",
       "       'APPLIANCES', 'CULTURE', 'GAS', 'BOOKS', 'APPAREL', 'FITNESS',\n",
       "       'EDUCATION', 'ENTERTAINMENT', 'FOOD', 'HEALTH', 'HOME_GARDEN', 'TELCOS',\n",
       "       'TRAVEL', 'PURCHASES_AMOUNT', 'LOYALTY'],\n",
       "      dtype='object')"
      ]
     },
     "execution_count": 3,
     "metadata": {},
     "output_type": "execute_result"
    }
   ],
   "source": [
    "columnas = datos_df.columns\n",
    "columnas"
   ]
  },
  {
   "cell_type": "code",
   "execution_count": 4,
   "metadata": {
    "colab": {
     "base_uri": "https://localhost:8080/"
    },
    "id": "9wk4ANh7q5e0",
    "outputId": "cdfe1dda-d9e5-4f88-c252-516048635cf8"
   },
   "outputs": [
    {
     "data": {
      "text/plain": [
       "CUST_ID              object\n",
       "AVG_BALANCE         float64\n",
       "TENURE                int64\n",
       "NUM_TRANS           float64\n",
       "ACCESSORIES         float64\n",
       "APPLIANCES          float64\n",
       "CULTURE             float64\n",
       "GAS                 float64\n",
       "BOOKS               float64\n",
       "APPAREL             float64\n",
       "FITNESS             float64\n",
       "EDUCATION           float64\n",
       "ENTERTAINMENT       float64\n",
       "FOOD                float64\n",
       "HEALTH              float64\n",
       "HOME_GARDEN         float64\n",
       "TELCOS              float64\n",
       "TRAVEL              float64\n",
       "PURCHASES_AMOUNT    float64\n",
       "LOYALTY               int64\n",
       "dtype: object"
      ]
     },
     "execution_count": 4,
     "metadata": {},
     "output_type": "execute_result"
    }
   ],
   "source": [
    "datos_df.dtypes"
   ]
  },
  {
   "cell_type": "code",
   "execution_count": 5,
   "metadata": {
    "colab": {
     "base_uri": "https://localhost:8080/",
     "height": 427
    },
    "id": "4_DSVGbKrKil",
    "outputId": "70d8c119-633b-49a9-c417-295a56965f14"
   },
   "outputs": [
    {
     "data": {
      "text/html": [
       "<div>\n",
       "<style scoped>\n",
       "    .dataframe tbody tr th:only-of-type {\n",
       "        vertical-align: middle;\n",
       "    }\n",
       "\n",
       "    .dataframe tbody tr th {\n",
       "        vertical-align: top;\n",
       "    }\n",
       "\n",
       "    .dataframe thead th {\n",
       "        text-align: right;\n",
       "    }\n",
       "</style>\n",
       "<table border=\"1\" class=\"dataframe\">\n",
       "  <thead>\n",
       "    <tr style=\"text-align: right;\">\n",
       "      <th></th>\n",
       "      <th>AVG_BALANCE</th>\n",
       "      <th>TENURE</th>\n",
       "      <th>NUM_TRANS</th>\n",
       "      <th>ACCESSORIES</th>\n",
       "      <th>APPLIANCES</th>\n",
       "      <th>CULTURE</th>\n",
       "      <th>GAS</th>\n",
       "      <th>BOOKS</th>\n",
       "      <th>APPAREL</th>\n",
       "      <th>FITNESS</th>\n",
       "      <th>EDUCATION</th>\n",
       "      <th>ENTERTAINMENT</th>\n",
       "      <th>FOOD</th>\n",
       "      <th>HEALTH</th>\n",
       "      <th>HOME_GARDEN</th>\n",
       "      <th>TELCOS</th>\n",
       "      <th>TRAVEL</th>\n",
       "      <th>PURCHASES_AMOUNT</th>\n",
       "      <th>LOYALTY</th>\n",
       "    </tr>\n",
       "  </thead>\n",
       "  <tbody>\n",
       "    <tr>\n",
       "      <th>0</th>\n",
       "      <td>3044.993177</td>\n",
       "      <td>12</td>\n",
       "      <td>11.006688</td>\n",
       "      <td>0.000000</td>\n",
       "      <td>2168.506639</td>\n",
       "      <td>0.0</td>\n",
       "      <td>0.000000</td>\n",
       "      <td>0.0</td>\n",
       "      <td>0.000000</td>\n",
       "      <td>0.0</td>\n",
       "      <td>0.0</td>\n",
       "      <td>0.000000</td>\n",
       "      <td>0.000000</td>\n",
       "      <td>0.000000</td>\n",
       "      <td>0.000000</td>\n",
       "      <td>0.0</td>\n",
       "      <td>0.0</td>\n",
       "      <td>2168.506639</td>\n",
       "      <td>1</td>\n",
       "    </tr>\n",
       "    <tr>\n",
       "      <th>1</th>\n",
       "      <td>81.927748</td>\n",
       "      <td>12</td>\n",
       "      <td>0.985254</td>\n",
       "      <td>0.000000</td>\n",
       "      <td>1779.354561</td>\n",
       "      <td>0.0</td>\n",
       "      <td>0.000000</td>\n",
       "      <td>0.0</td>\n",
       "      <td>0.000000</td>\n",
       "      <td>0.0</td>\n",
       "      <td>0.0</td>\n",
       "      <td>0.000000</td>\n",
       "      <td>0.000000</td>\n",
       "      <td>0.000000</td>\n",
       "      <td>0.000000</td>\n",
       "      <td>0.0</td>\n",
       "      <td>0.0</td>\n",
       "      <td>1779.354561</td>\n",
       "      <td>0</td>\n",
       "    </tr>\n",
       "    <tr>\n",
       "      <th>2</th>\n",
       "      <td>1345.213562</td>\n",
       "      <td>12</td>\n",
       "      <td>2.830550</td>\n",
       "      <td>0.000000</td>\n",
       "      <td>0.000000</td>\n",
       "      <td>0.0</td>\n",
       "      <td>163.266045</td>\n",
       "      <td>0.0</td>\n",
       "      <td>1590.748309</td>\n",
       "      <td>0.0</td>\n",
       "      <td>0.0</td>\n",
       "      <td>0.000000</td>\n",
       "      <td>0.000000</td>\n",
       "      <td>0.000000</td>\n",
       "      <td>0.000000</td>\n",
       "      <td>0.0</td>\n",
       "      <td>0.0</td>\n",
       "      <td>1754.014354</td>\n",
       "      <td>0</td>\n",
       "    </tr>\n",
       "    <tr>\n",
       "      <th>3</th>\n",
       "      <td>3193.925166</td>\n",
       "      <td>12</td>\n",
       "      <td>0.000000</td>\n",
       "      <td>0.000000</td>\n",
       "      <td>0.000000</td>\n",
       "      <td>0.0</td>\n",
       "      <td>0.000000</td>\n",
       "      <td>0.0</td>\n",
       "      <td>0.000000</td>\n",
       "      <td>0.0</td>\n",
       "      <td>0.0</td>\n",
       "      <td>0.000000</td>\n",
       "      <td>0.000000</td>\n",
       "      <td>0.000000</td>\n",
       "      <td>0.000000</td>\n",
       "      <td>0.0</td>\n",
       "      <td>0.0</td>\n",
       "      <td>0.000000</td>\n",
       "      <td>0</td>\n",
       "    </tr>\n",
       "    <tr>\n",
       "      <th>4</th>\n",
       "      <td>284.286718</td>\n",
       "      <td>7</td>\n",
       "      <td>11.757291</td>\n",
       "      <td>0.000000</td>\n",
       "      <td>189.991137</td>\n",
       "      <td>0.0</td>\n",
       "      <td>628.363089</td>\n",
       "      <td>0.0</td>\n",
       "      <td>0.000000</td>\n",
       "      <td>0.0</td>\n",
       "      <td>0.0</td>\n",
       "      <td>0.000000</td>\n",
       "      <td>29.831540</td>\n",
       "      <td>58.269684</td>\n",
       "      <td>61.882977</td>\n",
       "      <td>0.0</td>\n",
       "      <td>0.0</td>\n",
       "      <td>968.338427</td>\n",
       "      <td>0</td>\n",
       "    </tr>\n",
       "    <tr>\n",
       "      <th>...</th>\n",
       "      <td>...</td>\n",
       "      <td>...</td>\n",
       "      <td>...</td>\n",
       "      <td>...</td>\n",
       "      <td>...</td>\n",
       "      <td>...</td>\n",
       "      <td>...</td>\n",
       "      <td>...</td>\n",
       "      <td>...</td>\n",
       "      <td>...</td>\n",
       "      <td>...</td>\n",
       "      <td>...</td>\n",
       "      <td>...</td>\n",
       "      <td>...</td>\n",
       "      <td>...</td>\n",
       "      <td>...</td>\n",
       "      <td>...</td>\n",
       "      <td>...</td>\n",
       "      <td>...</td>\n",
       "    </tr>\n",
       "    <tr>\n",
       "      <th>18966</th>\n",
       "      <td>433.941742</td>\n",
       "      <td>6</td>\n",
       "      <td>0.000000</td>\n",
       "      <td>0.000000</td>\n",
       "      <td>0.000000</td>\n",
       "      <td>0.0</td>\n",
       "      <td>0.000000</td>\n",
       "      <td>0.0</td>\n",
       "      <td>0.000000</td>\n",
       "      <td>0.0</td>\n",
       "      <td>0.0</td>\n",
       "      <td>0.000000</td>\n",
       "      <td>0.000000</td>\n",
       "      <td>0.000000</td>\n",
       "      <td>0.000000</td>\n",
       "      <td>0.0</td>\n",
       "      <td>0.0</td>\n",
       "      <td>0.000000</td>\n",
       "      <td>0</td>\n",
       "    </tr>\n",
       "    <tr>\n",
       "      <th>18967</th>\n",
       "      <td>745.654579</td>\n",
       "      <td>6</td>\n",
       "      <td>0.000000</td>\n",
       "      <td>0.000000</td>\n",
       "      <td>0.000000</td>\n",
       "      <td>0.0</td>\n",
       "      <td>0.000000</td>\n",
       "      <td>0.0</td>\n",
       "      <td>0.000000</td>\n",
       "      <td>0.0</td>\n",
       "      <td>0.0</td>\n",
       "      <td>0.000000</td>\n",
       "      <td>0.000000</td>\n",
       "      <td>0.000000</td>\n",
       "      <td>0.000000</td>\n",
       "      <td>0.0</td>\n",
       "      <td>0.0</td>\n",
       "      <td>0.000000</td>\n",
       "      <td>0</td>\n",
       "    </tr>\n",
       "    <tr>\n",
       "      <th>18968</th>\n",
       "      <td>244.651399</td>\n",
       "      <td>6</td>\n",
       "      <td>3.734193</td>\n",
       "      <td>0.000000</td>\n",
       "      <td>0.000000</td>\n",
       "      <td>0.0</td>\n",
       "      <td>0.000000</td>\n",
       "      <td>0.0</td>\n",
       "      <td>926.602407</td>\n",
       "      <td>0.0</td>\n",
       "      <td>0.0</td>\n",
       "      <td>0.000000</td>\n",
       "      <td>0.000000</td>\n",
       "      <td>0.000000</td>\n",
       "      <td>0.000000</td>\n",
       "      <td>0.0</td>\n",
       "      <td>0.0</td>\n",
       "      <td>926.602407</td>\n",
       "      <td>0</td>\n",
       "    </tr>\n",
       "    <tr>\n",
       "      <th>18969</th>\n",
       "      <td>395.937201</td>\n",
       "      <td>6</td>\n",
       "      <td>5.452103</td>\n",
       "      <td>0.000000</td>\n",
       "      <td>0.000000</td>\n",
       "      <td>0.0</td>\n",
       "      <td>0.000000</td>\n",
       "      <td>0.0</td>\n",
       "      <td>0.000000</td>\n",
       "      <td>0.0</td>\n",
       "      <td>0.0</td>\n",
       "      <td>0.000000</td>\n",
       "      <td>0.000000</td>\n",
       "      <td>564.666947</td>\n",
       "      <td>0.000000</td>\n",
       "      <td>0.0</td>\n",
       "      <td>0.0</td>\n",
       "      <td>564.666947</td>\n",
       "      <td>0</td>\n",
       "    </tr>\n",
       "    <tr>\n",
       "      <th>18970</th>\n",
       "      <td>390.658988</td>\n",
       "      <td>6</td>\n",
       "      <td>21.949723</td>\n",
       "      <td>50.216103</td>\n",
       "      <td>0.000000</td>\n",
       "      <td>0.0</td>\n",
       "      <td>0.000000</td>\n",
       "      <td>0.0</td>\n",
       "      <td>453.646072</td>\n",
       "      <td>0.0</td>\n",
       "      <td>0.0</td>\n",
       "      <td>456.318301</td>\n",
       "      <td>112.869012</td>\n",
       "      <td>92.341615</td>\n",
       "      <td>0.000000</td>\n",
       "      <td>0.0</td>\n",
       "      <td>0.0</td>\n",
       "      <td>1165.391103</td>\n",
       "      <td>0</td>\n",
       "    </tr>\n",
       "  </tbody>\n",
       "</table>\n",
       "<p>18971 rows × 19 columns</p>\n",
       "</div>"
      ],
      "text/plain": [
       "       AVG_BALANCE  TENURE  NUM_TRANS  ACCESSORIES   APPLIANCES  CULTURE  \\\n",
       "0      3044.993177      12  11.006688     0.000000  2168.506639      0.0   \n",
       "1        81.927748      12   0.985254     0.000000  1779.354561      0.0   \n",
       "2      1345.213562      12   2.830550     0.000000     0.000000      0.0   \n",
       "3      3193.925166      12   0.000000     0.000000     0.000000      0.0   \n",
       "4       284.286718       7  11.757291     0.000000   189.991137      0.0   \n",
       "...            ...     ...        ...          ...          ...      ...   \n",
       "18966   433.941742       6   0.000000     0.000000     0.000000      0.0   \n",
       "18967   745.654579       6   0.000000     0.000000     0.000000      0.0   \n",
       "18968   244.651399       6   3.734193     0.000000     0.000000      0.0   \n",
       "18969   395.937201       6   5.452103     0.000000     0.000000      0.0   \n",
       "18970   390.658988       6  21.949723    50.216103     0.000000      0.0   \n",
       "\n",
       "              GAS  BOOKS      APPAREL  FITNESS  EDUCATION  ENTERTAINMENT  \\\n",
       "0        0.000000    0.0     0.000000      0.0        0.0       0.000000   \n",
       "1        0.000000    0.0     0.000000      0.0        0.0       0.000000   \n",
       "2      163.266045    0.0  1590.748309      0.0        0.0       0.000000   \n",
       "3        0.000000    0.0     0.000000      0.0        0.0       0.000000   \n",
       "4      628.363089    0.0     0.000000      0.0        0.0       0.000000   \n",
       "...           ...    ...          ...      ...        ...            ...   \n",
       "18966    0.000000    0.0     0.000000      0.0        0.0       0.000000   \n",
       "18967    0.000000    0.0     0.000000      0.0        0.0       0.000000   \n",
       "18968    0.000000    0.0   926.602407      0.0        0.0       0.000000   \n",
       "18969    0.000000    0.0     0.000000      0.0        0.0       0.000000   \n",
       "18970    0.000000    0.0   453.646072      0.0        0.0     456.318301   \n",
       "\n",
       "             FOOD      HEALTH  HOME_GARDEN  TELCOS  TRAVEL  PURCHASES_AMOUNT  \\\n",
       "0        0.000000    0.000000     0.000000     0.0     0.0       2168.506639   \n",
       "1        0.000000    0.000000     0.000000     0.0     0.0       1779.354561   \n",
       "2        0.000000    0.000000     0.000000     0.0     0.0       1754.014354   \n",
       "3        0.000000    0.000000     0.000000     0.0     0.0          0.000000   \n",
       "4       29.831540   58.269684    61.882977     0.0     0.0        968.338427   \n",
       "...           ...         ...          ...     ...     ...               ...   \n",
       "18966    0.000000    0.000000     0.000000     0.0     0.0          0.000000   \n",
       "18967    0.000000    0.000000     0.000000     0.0     0.0          0.000000   \n",
       "18968    0.000000    0.000000     0.000000     0.0     0.0        926.602407   \n",
       "18969    0.000000  564.666947     0.000000     0.0     0.0        564.666947   \n",
       "18970  112.869012   92.341615     0.000000     0.0     0.0       1165.391103   \n",
       "\n",
       "       LOYALTY  \n",
       "0            1  \n",
       "1            0  \n",
       "2            0  \n",
       "3            0  \n",
       "4            0  \n",
       "...        ...  \n",
       "18966        0  \n",
       "18967        0  \n",
       "18968        0  \n",
       "18969        0  \n",
       "18970        0  \n",
       "\n",
       "[18971 rows x 19 columns]"
      ]
     },
     "execution_count": 5,
     "metadata": {},
     "output_type": "execute_result"
    }
   ],
   "source": [
    "datos_df2 = datos_df.drop(['CUST_ID'], axis=1)\n",
    "datos_df2"
   ]
  },
  {
   "cell_type": "markdown",
   "metadata": {
    "id": "ebTP_HF4ssOt"
   },
   "source": [
    "Generando el dataset como un numpy matrix"
   ]
  },
  {
   "cell_type": "code",
   "execution_count": 6,
   "metadata": {
    "colab": {
     "base_uri": "https://localhost:8080/"
    },
    "id": "24d8ue7Hsytj",
    "outputId": "ec0b00f0-7dd2-4158-8662-3c88b81b22ea"
   },
   "outputs": [
    {
     "data": {
      "text/plain": [
       "array([[3.04499318e+03, 1.20000000e+01, 1.10066880e+01, ...,\n",
       "        0.00000000e+00, 2.16850664e+03, 1.00000000e+00],\n",
       "       [8.19277480e+01, 1.20000000e+01, 9.85254000e-01, ...,\n",
       "        0.00000000e+00, 1.77935456e+03, 0.00000000e+00],\n",
       "       [1.34521356e+03, 1.20000000e+01, 2.83055000e+00, ...,\n",
       "        0.00000000e+00, 1.75401435e+03, 0.00000000e+00],\n",
       "       ...,\n",
       "       [2.44651399e+02, 6.00000000e+00, 3.73419300e+00, ...,\n",
       "        0.00000000e+00, 9.26602407e+02, 0.00000000e+00],\n",
       "       [3.95937201e+02, 6.00000000e+00, 5.45210300e+00, ...,\n",
       "        0.00000000e+00, 5.64666947e+02, 0.00000000e+00],\n",
       "       [3.90658988e+02, 6.00000000e+00, 2.19497230e+01, ...,\n",
       "        0.00000000e+00, 1.16539110e+03, 0.00000000e+00]])"
      ]
     },
     "execution_count": 6,
     "metadata": {},
     "output_type": "execute_result"
    }
   ],
   "source": [
    "dataset_np = datos_df2.to_numpy()\n",
    "dataset_np"
   ]
  },
  {
   "cell_type": "markdown",
   "metadata": {
    "id": "altUD1BNtCNG"
   },
   "source": [
    "### Separando el feature vector y la etiqueta\n",
    "Como se puede observar, la etiqueta ha sido suministrada en el dataset como **LOYALTY** y corresponde a la última columna"
   ]
  },
  {
   "cell_type": "code",
   "execution_count": 7,
   "metadata": {
    "colab": {
     "base_uri": "https://localhost:8080/"
    },
    "id": "LONgAO2UtOkP",
    "outputId": "57293544-8201-4c2e-e701-09a029449dc4"
   },
   "outputs": [
    {
     "name": "stdout",
     "output_type": "stream",
     "text": [
      "Shape del dataset: (18971, 19)\n",
      "Shape de X: (18971, 18)\n",
      "Shape de Y: (18971,)\n"
     ]
    }
   ],
   "source": [
    "print('Shape del dataset: {}'.format(dataset_np.shape))\n",
    "x = dataset_np[:,:-1]\n",
    "y = dataset_np[:,-1]\n",
    "print('Shape de X: {}'.format(x.shape))\n",
    "print('Shape de Y: {}'.format(y.shape))"
   ]
  },
  {
   "cell_type": "code",
   "execution_count": 8,
   "metadata": {
    "colab": {
     "base_uri": "https://localhost:8080/"
    },
    "id": "c46r0J6PurEj",
    "outputId": "9ae08238-15e1-443d-e4ea-dd7c5f45eab2"
   },
   "outputs": [
    {
     "name": "stdout",
     "output_type": "stream",
     "text": [
      "X: [[3.04499318e+03 1.20000000e+01 1.10066880e+01 0.00000000e+00\n",
      "  2.16850664e+03 0.00000000e+00 0.00000000e+00 0.00000000e+00\n",
      "  0.00000000e+00 0.00000000e+00 0.00000000e+00 0.00000000e+00\n",
      "  0.00000000e+00 0.00000000e+00 0.00000000e+00 0.00000000e+00\n",
      "  0.00000000e+00 2.16850664e+03]\n",
      " [8.19277480e+01 1.20000000e+01 9.85254000e-01 0.00000000e+00\n",
      "  1.77935456e+03 0.00000000e+00 0.00000000e+00 0.00000000e+00\n",
      "  0.00000000e+00 0.00000000e+00 0.00000000e+00 0.00000000e+00\n",
      "  0.00000000e+00 0.00000000e+00 0.00000000e+00 0.00000000e+00\n",
      "  0.00000000e+00 1.77935456e+03]\n",
      " [1.34521356e+03 1.20000000e+01 2.83055000e+00 0.00000000e+00\n",
      "  0.00000000e+00 0.00000000e+00 1.63266045e+02 0.00000000e+00\n",
      "  1.59074831e+03 0.00000000e+00 0.00000000e+00 0.00000000e+00\n",
      "  0.00000000e+00 0.00000000e+00 0.00000000e+00 0.00000000e+00\n",
      "  0.00000000e+00 1.75401435e+03]\n",
      " [3.19392517e+03 1.20000000e+01 0.00000000e+00 0.00000000e+00\n",
      "  0.00000000e+00 0.00000000e+00 0.00000000e+00 0.00000000e+00\n",
      "  0.00000000e+00 0.00000000e+00 0.00000000e+00 0.00000000e+00\n",
      "  0.00000000e+00 0.00000000e+00 0.00000000e+00 0.00000000e+00\n",
      "  0.00000000e+00 0.00000000e+00]\n",
      " [2.84286718e+02 7.00000000e+00 1.17572910e+01 0.00000000e+00\n",
      "  1.89991137e+02 0.00000000e+00 6.28363089e+02 0.00000000e+00\n",
      "  0.00000000e+00 0.00000000e+00 0.00000000e+00 0.00000000e+00\n",
      "  2.98315400e+01 5.82696840e+01 6.18829770e+01 0.00000000e+00\n",
      "  0.00000000e+00 9.68338427e+02]]\n",
      "Y: [1. 0. 0. 0. 0.]\n"
     ]
    }
   ],
   "source": [
    "print('X: {}'.format(x[0:5,:]))\n",
    "print('Y: {}'.format(y[0:5]))"
   ]
  },
  {
   "cell_type": "markdown",
   "metadata": {
    "id": "xVu22T1Xveqf"
   },
   "source": [
    "### Separación de Datos en Entrenamiento y Testeo"
   ]
  },
  {
   "cell_type": "code",
   "execution_count": 9,
   "metadata": {
    "colab": {
     "base_uri": "https://localhost:8080/"
    },
    "id": "QIlomsESvqA8",
    "outputId": "dc47be8d-4405-4b8c-ac6a-ff6a0f65573c"
   },
   "outputs": [
    {
     "name": "stdout",
     "output_type": "stream",
     "text": [
      "Shape de Xtrain: (15176, 18)\n",
      "Shape de Ytrain: (15176,)\n",
      "Shape de Xtest: (3795, 18)\n",
      "Shape de Ytest: (3795,)\n"
     ]
    }
   ],
   "source": [
    "from sklearn.model_selection import train_test_split\n",
    "x_train, x_test, y_train, y_test = train_test_split(x,y, test_size=0.2, random_state=0)\n",
    "print('Shape de Xtrain: {}'.format(x_train.shape))\n",
    "print('Shape de Ytrain: {}'.format(y_train.shape))\n",
    "print('Shape de Xtest: {}'.format(x_test.shape))\n",
    "print('Shape de Ytest: {}'.format(y_test.shape))"
   ]
  },
  {
   "cell_type": "markdown",
   "metadata": {
    "id": "Z3MFOteZweeN"
   },
   "source": [
    "### Pre-Procesamiento de Datos\n",
    "Como se puede ver los datos de cada columna están en escalas diferentes. Podemos mejorar el procesamiento, realizando el escalado de datos. En esta parte escalaremos los datos de **xtrain**"
   ]
  },
  {
   "cell_type": "code",
   "execution_count": 10,
   "metadata": {
    "colab": {
     "base_uri": "https://localhost:8080/"
    },
    "id": "sTHPUfiZw9mI",
    "outputId": "3a627fa0-8680-4455-aa41-0b54ced385c3"
   },
   "outputs": [
    {
     "name": "stdout",
     "output_type": "stream",
     "text": [
      "StandardScaler()\n",
      "[2258.17868886   11.39397733   19.11894104  177.49820889  216.42087936\n",
      "    5.81539031  105.02836715   32.32719661  482.58982614    3.0657289\n",
      "    8.67284774  118.26537457  185.26428228   96.43617634  116.92544899\n",
      "  160.77144645  182.1609695  1891.24214322]\n",
      "data escalada: \n",
      "[[-0.38730608  0.41591898 -0.54722724]\n",
      " [ 2.74666294  0.41591898  3.73099803]]\n"
     ]
    }
   ],
   "source": [
    "from sklearn.preprocessing import StandardScaler\n",
    "scaler = StandardScaler(copy=True, with_mean=True, with_std=True)\n",
    "print(scaler.fit(x_train))\n",
    "print(scaler.mean_)\n",
    "x_train = scaler.transform(x_train)\n",
    "print('data escalada: \\n{}'.format(x_train[0:2,0:3]))\n"
   ]
  },
  {
   "cell_type": "markdown",
   "metadata": {
    "id": "q8RyUaPV579d"
   },
   "source": [
    "### Clasificación con Redes Neuronales Artificiales\n",
    "\n",
    "1. Determine un número de neuronas de capa oculta\n",
    "2. Escoga un algoritmo de optimización\n",
    "3. Una función de activación para la última neurona\n",
    "\n",
    "Sugerencia, prueba con 6 neuronas en la capa oculta y luego sube ese valor a 60"
   ]
  },
  {
   "cell_type": "code",
   "execution_count": 11,
   "metadata": {
    "colab": {
     "base_uri": "https://localhost:8080/"
    },
    "id": "v4Z_-1H56YqN",
    "outputId": "b9b06e5f-e9f3-466c-f6a8-af97bf5ac84e"
   },
   "outputs": [
    {
     "name": "stdout",
     "output_type": "stream",
     "text": [
      "Iteration 1, loss = 0.58203557\n",
      "Iteration 2, loss = 0.56300567\n",
      "Iteration 3, loss = 0.54372886\n",
      "Iteration 4, loss = 0.52324130\n",
      "Iteration 5, loss = 0.50139180\n",
      "Iteration 6, loss = 0.47800762\n",
      "Iteration 7, loss = 0.45391631\n",
      "Iteration 8, loss = 0.42984523\n",
      "Iteration 9, loss = 0.40660691\n",
      "Iteration 10, loss = 0.38478672\n",
      "Iteration 11, loss = 0.36482373\n",
      "Iteration 12, loss = 0.34689015\n",
      "Iteration 13, loss = 0.33095450\n",
      "Iteration 14, loss = 0.31678169\n",
      "Iteration 15, loss = 0.30429165\n",
      "Iteration 16, loss = 0.29327878\n",
      "Iteration 17, loss = 0.28347469\n",
      "Iteration 18, loss = 0.27474523\n",
      "Iteration 19, loss = 0.26692049\n",
      "Iteration 20, loss = 0.25996159\n",
      "Iteration 21, loss = 0.25365816\n",
      "Iteration 22, loss = 0.24787616\n",
      "Iteration 23, loss = 0.24259164\n",
      "Iteration 24, loss = 0.23780458\n",
      "Iteration 25, loss = 0.23335368\n",
      "Iteration 26, loss = 0.22916659\n",
      "Iteration 27, loss = 0.22529655\n",
      "Iteration 28, loss = 0.22168844\n",
      "Iteration 29, loss = 0.21828658\n",
      "Iteration 30, loss = 0.21509351\n",
      "Iteration 31, loss = 0.21205550\n",
      "Iteration 32, loss = 0.20919033\n",
      "Iteration 33, loss = 0.20646464\n",
      "Iteration 34, loss = 0.20386195\n",
      "Iteration 35, loss = 0.20138919\n",
      "Iteration 36, loss = 0.19903575\n",
      "Iteration 37, loss = 0.19677020\n",
      "Iteration 38, loss = 0.19462466\n",
      "Iteration 39, loss = 0.19254536\n",
      "Iteration 40, loss = 0.19055701\n",
      "Iteration 41, loss = 0.18867419\n",
      "Iteration 42, loss = 0.18678556\n",
      "Iteration 43, loss = 0.18506158\n",
      "Iteration 44, loss = 0.18335566\n",
      "Iteration 45, loss = 0.18173036\n",
      "Iteration 46, loss = 0.18011962\n",
      "Iteration 47, loss = 0.17863790\n",
      "Iteration 48, loss = 0.17715411\n",
      "Iteration 49, loss = 0.17573719\n",
      "Iteration 50, loss = 0.17436929\n",
      "Iteration 51, loss = 0.17305086\n",
      "Iteration 52, loss = 0.17174680\n",
      "Iteration 53, loss = 0.17052816\n",
      "Iteration 54, loss = 0.16930768\n",
      "Iteration 55, loss = 0.16815050\n",
      "Iteration 56, loss = 0.16700745\n",
      "Iteration 57, loss = 0.16592664\n",
      "Iteration 58, loss = 0.16485190\n",
      "Iteration 59, loss = 0.16382366\n",
      "Iteration 60, loss = 0.16282416\n",
      "Iteration 61, loss = 0.16182428\n",
      "Iteration 62, loss = 0.16089082\n",
      "Iteration 63, loss = 0.15995863\n",
      "Iteration 64, loss = 0.15907648\n",
      "Iteration 65, loss = 0.15817873\n",
      "Iteration 66, loss = 0.15733938\n",
      "Iteration 67, loss = 0.15647633\n",
      "Iteration 68, loss = 0.15569919\n",
      "Iteration 69, loss = 0.15487667\n",
      "Iteration 70, loss = 0.15410761\n",
      "Iteration 71, loss = 0.15335121\n",
      "Iteration 72, loss = 0.15260253\n",
      "Iteration 73, loss = 0.15187529\n",
      "Iteration 74, loss = 0.15118486\n",
      "Iteration 75, loss = 0.15049222\n",
      "Iteration 76, loss = 0.14981840\n",
      "Iteration 77, loss = 0.14912554\n",
      "Iteration 78, loss = 0.14849777\n",
      "Iteration 79, loss = 0.14787055\n",
      "Iteration 80, loss = 0.14726297\n",
      "Iteration 81, loss = 0.14662152\n",
      "Iteration 82, loss = 0.14602596\n",
      "Iteration 83, loss = 0.14543722\n",
      "Iteration 84, loss = 0.14487511\n",
      "Iteration 85, loss = 0.14430051\n",
      "Iteration 86, loss = 0.14373059\n",
      "Iteration 87, loss = 0.14319214\n",
      "Iteration 88, loss = 0.14267785\n",
      "Iteration 89, loss = 0.14214661\n",
      "Iteration 90, loss = 0.14162878\n",
      "Iteration 91, loss = 0.14113484\n",
      "Iteration 92, loss = 0.14062093\n",
      "Iteration 93, loss = 0.14013899\n",
      "Iteration 94, loss = 0.13965518\n",
      "Iteration 95, loss = 0.13918935\n",
      "Iteration 96, loss = 0.13872032\n",
      "Iteration 97, loss = 0.13825374\n",
      "Iteration 98, loss = 0.13780350\n",
      "Iteration 99, loss = 0.13734909\n",
      "Iteration 100, loss = 0.13691461\n",
      "Iteration 101, loss = 0.13647829\n",
      "Iteration 102, loss = 0.13606818\n",
      "Iteration 103, loss = 0.13562574\n",
      "Iteration 104, loss = 0.13522100\n",
      "Iteration 105, loss = 0.13481069\n",
      "Iteration 106, loss = 0.13440705\n",
      "Iteration 107, loss = 0.13400581\n",
      "Iteration 108, loss = 0.13362531\n",
      "Iteration 109, loss = 0.13323693\n",
      "Iteration 110, loss = 0.13285111\n",
      "Iteration 111, loss = 0.13248350\n",
      "Iteration 112, loss = 0.13209243\n",
      "Iteration 113, loss = 0.13172813\n",
      "Iteration 114, loss = 0.13137298\n",
      "Iteration 115, loss = 0.13100399\n",
      "Iteration 116, loss = 0.13065567\n",
      "Iteration 117, loss = 0.13030627\n",
      "Iteration 118, loss = 0.12996587\n",
      "Iteration 119, loss = 0.12961947\n",
      "Iteration 120, loss = 0.12927641\n",
      "Iteration 121, loss = 0.12894265\n",
      "Iteration 122, loss = 0.12860787\n",
      "Iteration 123, loss = 0.12828637\n",
      "Iteration 124, loss = 0.12795808\n",
      "Iteration 125, loss = 0.12763095\n",
      "Iteration 126, loss = 0.12730423\n",
      "Iteration 127, loss = 0.12699475\n",
      "Iteration 128, loss = 0.12667744\n",
      "Iteration 129, loss = 0.12638776\n",
      "Iteration 130, loss = 0.12606186\n",
      "Iteration 131, loss = 0.12574589\n",
      "Iteration 132, loss = 0.12545827\n",
      "Iteration 133, loss = 0.12516427\n",
      "Iteration 134, loss = 0.12486038\n",
      "Iteration 135, loss = 0.12457367\n",
      "Iteration 136, loss = 0.12427626\n",
      "Iteration 137, loss = 0.12397917\n",
      "Iteration 138, loss = 0.12369292\n",
      "Iteration 139, loss = 0.12340669\n",
      "Iteration 140, loss = 0.12313027\n",
      "Iteration 141, loss = 0.12284647\n",
      "Iteration 142, loss = 0.12256989\n",
      "Iteration 143, loss = 0.12229290\n",
      "Iteration 144, loss = 0.12201833\n",
      "Iteration 145, loss = 0.12174579\n",
      "Iteration 146, loss = 0.12147953\n",
      "Iteration 147, loss = 0.12121473\n",
      "Iteration 148, loss = 0.12094536\n",
      "Iteration 149, loss = 0.12067195\n",
      "Iteration 150, loss = 0.12041164\n"
     ]
    },
    {
     "name": "stderr",
     "output_type": "stream",
     "text": [
      "/home/leninml/anaconda3/envs/tfv2Cuda10.1/lib/python3.8/site-packages/sklearn/neural_network/_multilayer_perceptron.py:582: ConvergenceWarning: Stochastic Optimizer: Maximum iterations (150) reached and the optimization hasn't converged yet.\n",
      "  warnings.warn(\n"
     ]
    },
    {
     "data": {
      "text/plain": [
       "MLPClassifier(activation='logistic', hidden_layer_sizes=60,\n",
       "              learning_rate_init=0.01, max_iter=150, momentum=0.6, solver='sgd',\n",
       "              verbose=True)"
      ]
     },
     "execution_count": 11,
     "metadata": {},
     "output_type": "execute_result"
    }
   ],
   "source": [
    "from sklearn.neural_network import MLPClassifier\n",
    "red = MLPClassifier(hidden_layer_sizes = 60, \n",
    "                    learning_rate_init=0.01, \n",
    "                    solver='sgd',\n",
    "                    momentum=0.6,\n",
    "                    max_iter=150,\n",
    "                    shuffle=True,\n",
    "                    activation=\"logistic\",\n",
    "                    verbose=True)\n",
    "red.fit(x_train, y_train)"
   ]
  },
  {
   "cell_type": "markdown",
   "metadata": {
    "id": "XIAB05Sw7gFX"
   },
   "source": [
    "### Rendimiento del Entrenamiento\n",
    "Para evaluar el rendimiento en el entrenamiento se puede usar el método *score* en el objeto red neuronal"
   ]
  },
  {
   "cell_type": "code",
   "execution_count": 12,
   "metadata": {
    "colab": {
     "base_uri": "https://localhost:8080/"
    },
    "id": "w27kCB457p18",
    "outputId": "7c95bc6c-cc9d-46dd-e9c1-451f0625a38f"
   },
   "outputs": [
    {
     "data": {
      "text/plain": [
       "0.9729836584080126"
      ]
     },
     "execution_count": 12,
     "metadata": {},
     "output_type": "execute_result"
    }
   ],
   "source": [
    "red.score(x_train, y_train)"
   ]
  },
  {
   "cell_type": "markdown",
   "metadata": {
    "id": "u4E3Xb938f8X"
   },
   "source": [
    "Para evaluar el desempeño real de la red neuronal en el dataset de pruebas, se debe realizar las predicciones con el modelo entrenado. Desde luego, se debe normalizar también el conjunto de datos de testeo"
   ]
  },
  {
   "cell_type": "code",
   "execution_count": 13,
   "metadata": {
    "colab": {
     "base_uri": "https://localhost:8080/"
    },
    "id": "r_cDvkbG8qV-",
    "outputId": "97fda384-5911-4274-f4e2-b1922c38a93b"
   },
   "outputs": [
    {
     "data": {
      "text/plain": [
       "array([1., 0., 0., ..., 0., 0., 1.])"
      ]
     },
     "execution_count": 13,
     "metadata": {},
     "output_type": "execute_result"
    }
   ],
   "source": [
    "x_test = scaler.transform(x_test)\n",
    "y_predict = red.predict(x_test)\n",
    "y_predict"
   ]
  },
  {
   "cell_type": "code",
   "execution_count": 14,
   "metadata": {
    "colab": {
     "base_uri": "https://localhost:8080/"
    },
    "id": "r9derJFw8HJZ",
    "outputId": "a54d4260-05db-4f52-e8f7-206654a476a6"
   },
   "outputs": [
    {
     "data": {
      "text/plain": [
       "array([[2726,   34],\n",
       "       [  88,  947]])"
      ]
     },
     "execution_count": 14,
     "metadata": {},
     "output_type": "execute_result"
    }
   ],
   "source": [
    "from sklearn.metrics import classification_report, confusion_matrix\n",
    "confusion_matrix(y_true=y_test, y_pred=y_predict)\n"
   ]
  },
  {
   "cell_type": "code",
   "execution_count": 15,
   "metadata": {
    "colab": {
     "base_uri": "https://localhost:8080/"
    },
    "id": "_dfWYshLCfhn",
    "outputId": "4d6ff68b-707e-463d-8a88-e6df162f3820"
   },
   "outputs": [
    {
     "name": "stdout",
     "output_type": "stream",
     "text": [
      "TN: 2726, FP:34\n",
      "FN:88, TP:947\n",
      "Accuracy: 0.9678524374176548\n"
     ]
    }
   ],
   "source": [
    "cm = confusion_matrix(y_true=y_test, y_pred=y_predict, labels=[0, 1])\n",
    "TN = cm[0,0]\n",
    "TP = cm[1,1]\n",
    "FN = cm[1,0]\n",
    "FP = cm[0,1]\n",
    "print('TN: {}, FP:{}\\nFN:{}, TP:{}'.format(TN, FP, FN, TP))\n",
    "print('Accuracy: {}'.format((TP+TN)/(TP+TN+FP+FN)))"
   ]
  },
  {
   "cell_type": "code",
   "execution_count": 16,
   "metadata": {
    "colab": {
     "base_uri": "https://localhost:8080/"
    },
    "id": "koUtFz4BDoQe",
    "outputId": "0a1c85b7-e843-46bf-a5fc-e8ab43fdd379"
   },
   "outputs": [
    {
     "data": {
      "text/plain": [
       "0.9678524374176548"
      ]
     },
     "execution_count": 16,
     "metadata": {},
     "output_type": "execute_result"
    }
   ],
   "source": [
    "red.score(x_test, y_test)"
   ]
  },
  {
   "cell_type": "code",
   "execution_count": 17,
   "metadata": {
    "colab": {
     "base_uri": "https://localhost:8080/"
    },
    "id": "CBa65Qd19ArU",
    "outputId": "632c9a95-8bdb-4011-9535-0fce35ec06d0"
   },
   "outputs": [
    {
     "name": "stdout",
     "output_type": "stream",
     "text": [
      "              precision    recall  f1-score   support\n",
      "\n",
      "        leal       0.97      0.99      0.98      2760\n",
      "     no-leal       0.97      0.91      0.94      1035\n",
      "\n",
      "    accuracy                           0.97      3795\n",
      "   macro avg       0.97      0.95      0.96      3795\n",
      "weighted avg       0.97      0.97      0.97      3795\n",
      "\n"
     ]
    }
   ],
   "source": [
    "print(classification_report(y_true=y_test, y_pred=y_predict, target_names=['leal', 'no-leal']))\n"
   ]
  },
  {
   "cell_type": "code",
   "execution_count": 18,
   "metadata": {
    "colab": {
     "base_uri": "https://localhost:8080/"
    },
    "id": "4w403EDF_Umo",
    "outputId": "0644ca39-6ae5-4387-8442-48dde8787a6b"
   },
   "outputs": [
    {
     "name": "stdout",
     "output_type": "stream",
     "text": [
      "['leal', 'no-leal', 'no-leal', 'no-leal', 'no-leal']\n",
      "[1. 0. 0. 0. 0.]\n"
     ]
    }
   ],
   "source": [
    "y_test_class = ['leal' if i==1 else 'no-leal' for i in y_test]\n",
    "print(y_test_class[:5])\n",
    "print(y_test[:5])"
   ]
  },
  {
   "cell_type": "code",
   "execution_count": 19,
   "metadata": {
    "colab": {
     "base_uri": "https://localhost:8080/"
    },
    "id": "itRF9E9eBAQm",
    "outputId": "eb9e3dc2-67a9-4658-a0b5-416de813fae6"
   },
   "outputs": [
    {
     "name": "stdout",
     "output_type": "stream",
     "text": [
      "['leal', 'no-leal', 'no-leal', 'no-leal', 'no-leal']\n",
      "[1. 0. 0. 0. 0.]\n"
     ]
    }
   ],
   "source": [
    "y_predict_class = ['leal' if i==1 else 'no-leal' for i in y_predict]\n",
    "print(y_predict_class[:5])\n",
    "print(y_predict[:5])"
   ]
  },
  {
   "cell_type": "markdown",
   "metadata": {
    "id": "K-qGg44FPg0Y"
   },
   "source": [
    "## Solución con Redes Neuronales Convolucionales\n",
    "\n",
    "Las redes neuronales convolucionales tienen una arquitectura más compleja que las redes neuronales artificiales y son ideales para trabajar con **datos multidimensionales** a través de **tensores**. Existen operaciones como: convolución, max pooling, entre otras. Para emular una ANN con ConvNet sólo usaremos layers de tipo dense"
   ]
  },
  {
   "cell_type": "markdown",
   "metadata": {
    "id": "StEsUmDsSLOI"
   },
   "source": [
    "Es necesario a **Xtrain** ponerlo en formato de tensor (i.e. (samples, features))"
   ]
  },
  {
   "cell_type": "code",
   "execution_count": 20,
   "metadata": {
    "colab": {
     "base_uri": "https://localhost:8080/"
    },
    "id": "Y0zv2xDxSTDW",
    "outputId": "72212373-6665-443c-c78a-7ae7990c3da8"
   },
   "outputs": [
    {
     "name": "stdout",
     "output_type": "stream",
     "text": [
      "15176 18\n"
     ]
    }
   ],
   "source": [
    "num_ejemplos, features = x_train.shape\n",
    "print(num_ejemplos, features)"
   ]
  },
  {
   "cell_type": "code",
   "execution_count": 21,
   "metadata": {
    "colab": {
     "base_uri": "https://localhost:8080/"
    },
    "id": "KeInhe-SQF61",
    "outputId": "3d28a23e-0766-4f4f-ca38-efff1c2672f9"
   },
   "outputs": [
    {
     "name": "stdout",
     "output_type": "stream",
     "text": [
      "Model: \"sequential\"\n",
      "_________________________________________________________________\n",
      "Layer (type)                 Output Shape              Param #   \n",
      "=================================================================\n",
      "dense (Dense)                (None, 10)                190       \n",
      "_________________________________________________________________\n",
      "dense_1 (Dense)              (None, 6)                 66        \n",
      "_________________________________________________________________\n",
      "dense_2 (Dense)              (None, 1)                 7         \n",
      "=================================================================\n",
      "Total params: 263\n",
      "Trainable params: 263\n",
      "Non-trainable params: 0\n",
      "_________________________________________________________________\n"
     ]
    }
   ],
   "source": [
    "from tensorflow.keras import models\n",
    "from tensorflow.keras import layers\n",
    "red_convnet = models.Sequential()\n",
    "red_convnet.add(layers.Dense(10, activation='relu', input_shape=(features,)))\n",
    "red_convnet.add(layers.Dense(6, activation='relu'))\n",
    "red_convnet.add(layers.Dense(1, activation='sigmoid'))\n",
    "\n",
    "red_convnet.summary()"
   ]
  },
  {
   "cell_type": "code",
   "execution_count": 22,
   "metadata": {
    "colab": {
     "base_uri": "https://localhost:8080/"
    },
    "id": "DLvhH-_vRJxX",
    "outputId": "09a9b700-bc42-4315-ab7f-37b8b37eeb9b"
   },
   "outputs": [
    {
     "name": "stdout",
     "output_type": "stream",
     "text": [
      "Epoch 1/10\n",
      "380/380 [==============================] - 17s 44ms/step - loss: 0.0915 - accuracy: 0.9703 - val_loss: 0.0334 - val_accuracy: 0.9891\n",
      "Epoch 2/10\n",
      "380/380 [==============================] - 18s 47ms/step - loss: 0.0434 - accuracy: 0.9881 - val_loss: 0.0199 - val_accuracy: 0.9934\n",
      "Epoch 3/10\n",
      "380/380 [==============================] - 19s 51ms/step - loss: 0.0641 - accuracy: 0.9886 - val_loss: 0.0404 - val_accuracy: 0.9934\n",
      "Epoch 4/10\n",
      "380/380 [==============================] - 19s 50ms/step - loss: 0.0911 - accuracy: 0.9903 - val_loss: 0.0406 - val_accuracy: 0.9822\n",
      "Epoch 5/10\n",
      "380/380 [==============================] - 20s 54ms/step - loss: 0.0829 - accuracy: 0.9908 - val_loss: 0.1694 - val_accuracy: 0.9951\n",
      "Epoch 6/10\n",
      "380/380 [==============================] - 19s 50ms/step - loss: 0.0625 - accuracy: 0.9941 - val_loss: 0.0507 - val_accuracy: 0.9941\n",
      "Epoch 7/10\n",
      "380/380 [==============================] - 18s 48ms/step - loss: 0.0719 - accuracy: 0.9942 - val_loss: 0.0201 - val_accuracy: 0.9947\n",
      "Epoch 8/10\n",
      "380/380 [==============================] - 17s 46ms/step - loss: 0.1665 - accuracy: 0.9942 - val_loss: 0.0954 - val_accuracy: 0.9954\n",
      "Epoch 9/10\n",
      "380/380 [==============================] - 19s 49ms/step - loss: 0.1134 - accuracy: 0.9959 - val_loss: 0.0368 - val_accuracy: 0.9954\n",
      "Epoch 10/10\n",
      "380/380 [==============================] - 23s 61ms/step - loss: 0.0600 - accuracy: 0.9967 - val_loss: 0.3254 - val_accuracy: 0.9895\n"
     ]
    }
   ],
   "source": [
    "from tensorflow.keras.optimizers import RMSprop\n",
    "red_convnet.compile(optimizer=RMSprop(lr=0.1), \n",
    "                    loss='binary_crossentropy', \n",
    "                    metrics=['accuracy'])\n",
    "history = red_convnet.fit(x=x_train, y=y_train, epochs=10, validation_split=0.2)\n"
   ]
  },
  {
   "cell_type": "code",
   "execution_count": 23,
   "metadata": {
    "colab": {
     "base_uri": "https://localhost:8080/"
    },
    "id": "wyxH_KSKara7",
    "outputId": "59da0295-5f1b-4a6e-8d9f-635e2269a623"
   },
   "outputs": [
    {
     "data": {
      "text/plain": [
       "dict_keys(['loss', 'accuracy', 'val_loss', 'val_accuracy'])"
      ]
     },
     "execution_count": 23,
     "metadata": {},
     "output_type": "execute_result"
    }
   ],
   "source": [
    "history.history.keys()"
   ]
  },
  {
   "cell_type": "code",
   "execution_count": 24,
   "metadata": {
    "colab": {
     "base_uri": "https://localhost:8080/",
     "height": 298
    },
    "id": "k85zAetfa4bM",
    "outputId": "5246a70a-a1be-4d3f-b99b-b978fadf52f0"
   },
   "outputs": [
    {
     "data": {
      "text/plain": [
       "Text(0.5, 1.0, 'Accuracy')"
      ]
     },
     "execution_count": 24,
     "metadata": {},
     "output_type": "execute_result"
    },
    {
     "data": {
      "image/png": "[encoded data removed]",
      "text/plain": [
       "<Figure size 432x288 with 1 Axes>"
      ]
     },
     "metadata": {
      "needs_background": "light"
     },
     "output_type": "display_data"
    }
   ],
   "source": [
    "import matplotlib.pyplot as plt\n",
    "%matplotlib inline\n",
    "plt.plot(history.history['accuracy'])\n",
    "plt.plot(history.history['val_accuracy'])\n",
    "plt.title('Accuracy')"
   ]
  },
  {
   "cell_type": "code",
   "execution_count": 25,
   "metadata": {
    "colab": {
     "base_uri": "https://localhost:8080/",
     "height": 298
    },
    "id": "GvSWf1PWccol",
    "outputId": "0ce79191-af8a-40fd-9566-530b01873876"
   },
   "outputs": [
    {
     "data": {
      "text/plain": [
       "Text(0.5, 1.0, 'Model Loss')"
      ]
     },
     "execution_count": 25,
     "metadata": {},
     "output_type": "execute_result"
    },
    {
     "data": {
      "image/png": "[encoded data removed]",
      "text/plain": [
       "<Figure size 432x288 with 1 Axes>"
      ]
     },
     "metadata": {
      "needs_background": "light"
     },
     "output_type": "display_data"
    }
   ],
   "source": [
    "plt.plot(history.history['loss'])\n",
    "plt.plot(history.history['val_loss'])\n",
    "plt.title('Model Loss')"
   ]
  }
 ],
 "metadata": {
  "accelerator": "GPU",
  "colab": {
   "name": "ClasificationExample.ipynb",
   "provenance": [],
   "toc_visible": true
  },
  "kernelspec": {
   "display_name": "Python 3",
   "language": "python",
   "name": "python3"
  },
  "language_info": {
   "codemirror_mode": {
    "name": "ipython",
    "version": 3
   },
   "file_extension": ".py",
   "mimetype": "text/x-python",
   "name": "python",
   "nbconvert_exporter": "python",
   "pygments_lexer": "ipython3",
   "version": "3.8.5"
  }
 },
 "nbformat": 4,
 "nbformat_minor": 1
}
