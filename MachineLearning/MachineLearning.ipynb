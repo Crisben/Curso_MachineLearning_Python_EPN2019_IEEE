{
 "cells": [
  {
   "cell_type": "markdown",
   "metadata": {
    "slideshow": {
     "slide_type": "slide"
    }
   },
   "source": [
    "## Machine Learning\n",
    "<center>\n",
    "    <img src=\"images/AnewParadigm.png\" width=50%/>\n",
    "</center>"
   ]
  },
  {
   "cell_type": "markdown",
   "metadata": {
    "slideshow": {
     "slide_type": "subslide"
    }
   },
   "source": [
    "### Machine Learning\n",
    "\n",
    "Encontrar **representaciones significativas** de los datos que permitan descubrir reglas para procesar los datos y obtener un resultado.\n",
    "\n",
    "Machine Learning requiere de:\n",
    "\n",
    "* Datos de Entrada: voz, texto, video, imágenes, etc.\n",
    "* Ejemplos de la relación entrada - salida\n",
    "* Una medida de desempeño o rendimiento del aprendizaje\n",
    "\n",
    "Aprender en Machine Learning es **encontrar automáticamente** las **mejores representaciones de los datos**"
   ]
  },
  {
   "cell_type": "markdown",
   "metadata": {
    "slideshow": {
     "slide_type": "slide"
    }
   },
   "source": [
    "### Deep Learning\n",
    "\n",
    "* Es un subcampo de Machine Learning\n",
    "* Es una forma de **Representation Learning**\n",
    "* Se caracteriza por encontrar representaciones significativas de datos a través del aprendizaje de varias capas de profundidad\n",
    "* **NO ES UN MODELO DEL CEREBRO**\n",
    "* \"Es un marco de referencia matemático para aprender representaciones de los datos\". (Chollet, 2017)\n",
    "\n",
    "https://cvl-demos.cs.nott.ac.uk/vrn/"
   ]
  },
  {
   "cell_type": "markdown",
   "metadata": {
    "slideshow": {
     "slide_type": "subslide"
    }
   },
   "source": [
    "### Deep Learning\n",
    "\n",
    "<center>\n",
    "    <img src=\"images/DeepLearning.png\" width=50%/>\n",
    "</center>"
   ]
  },
  {
   "cell_type": "markdown",
   "metadata": {
    "slideshow": {
     "slide_type": "subslide"
    }
   },
   "source": [
    "### Modelo de Aprendizaje en Deep Learning\n",
    "\n",
    "<center>\n",
    "    <img src=\"images/ANNStructure.png\" width=50%/>\n",
    "</center>\n",
    "\n"
   ]
  },
  {
   "cell_type": "markdown",
   "metadata": {
    "slideshow": {
     "slide_type": "subslide"
    }
   },
   "source": [
    "### Estructura de una Red Neuronal Artificial (ANN)\n"
   ]
  },
  {
   "cell_type": "code",
   "execution_count": 2,
   "metadata": {
    "slideshow": {
     "slide_type": "skip"
    }
   },
   "outputs": [
    {
     "name": "stdout",
     "output_type": "stream",
     "text": [
      "Collecting mglearn\n",
      "  Downloading mglearn-0.1.9.tar.gz (540 kB)\n",
      "\u001b[K     |████████████████████████████████| 540 kB 176 kB/s eta 0:00:01\n",
      "\u001b[?25hRequirement already satisfied: numpy in /home/leninml/anaconda3/envs/tfv2Cuda10.1/lib/python3.8/site-packages (from mglearn) (1.19.1)\n",
      "Requirement already satisfied: matplotlib in /home/leninml/anaconda3/envs/tfv2Cuda10.1/lib/python3.8/site-packages (from mglearn) (3.3.1)\n",
      "Requirement already satisfied: scikit-learn in /home/leninml/anaconda3/envs/tfv2Cuda10.1/lib/python3.8/site-packages (from mglearn) (0.23.2)\n",
      "Requirement already satisfied: pandas in /home/leninml/anaconda3/envs/tfv2Cuda10.1/lib/python3.8/site-packages (from mglearn) (1.1.3)\n",
      "Requirement already satisfied: pillow in /home/leninml/anaconda3/envs/tfv2Cuda10.1/lib/python3.8/site-packages (from mglearn) (7.2.0)\n",
      "Requirement already satisfied: cycler in /home/leninml/anaconda3/envs/tfv2Cuda10.1/lib/python3.8/site-packages (from mglearn) (0.10.0)\n",
      "Requirement already satisfied: imageio in /home/leninml/anaconda3/envs/tfv2Cuda10.1/lib/python3.8/site-packages (from mglearn) (2.9.0)\n",
      "Requirement already satisfied: joblib in /home/leninml/anaconda3/envs/tfv2Cuda10.1/lib/python3.8/site-packages (from mglearn) (0.17.0)\n",
      "Requirement already satisfied: pyparsing!=2.0.4,!=2.1.2,!=2.1.6,>=2.0.3 in /home/leninml/anaconda3/envs/tfv2Cuda10.1/lib/python3.8/site-packages (from matplotlib->mglearn) (2.4.7)\n",
      "Requirement already satisfied: certifi>=2020.06.20 in /home/leninml/anaconda3/envs/tfv2Cuda10.1/lib/python3.8/site-packages (from matplotlib->mglearn) (2020.6.20)\n",
      "Requirement already satisfied: kiwisolver>=1.0.1 in /home/leninml/anaconda3/envs/tfv2Cuda10.1/lib/python3.8/site-packages (from matplotlib->mglearn) (1.2.0)\n",
      "Requirement already satisfied: python-dateutil>=2.1 in /home/leninml/anaconda3/envs/tfv2Cuda10.1/lib/python3.8/site-packages (from matplotlib->mglearn) (2.8.1)\n",
      "Requirement already satisfied: threadpoolctl>=2.0.0 in /home/leninml/anaconda3/envs/tfv2Cuda10.1/lib/python3.8/site-packages (from scikit-learn->mglearn) (2.1.0)\n",
      "Requirement already satisfied: scipy>=0.19.1 in /home/leninml/anaconda3/envs/tfv2Cuda10.1/lib/python3.8/site-packages (from scikit-learn->mglearn) (1.5.2)\n",
      "Requirement already satisfied: pytz>=2017.2 in /home/leninml/anaconda3/envs/tfv2Cuda10.1/lib/python3.8/site-packages (from pandas->mglearn) (2020.1)\n",
      "Requirement already satisfied: six in /home/leninml/anaconda3/envs/tfv2Cuda10.1/lib/python3.8/site-packages (from cycler->mglearn) (1.15.0)\n",
      "Building wheels for collected packages: mglearn\n",
      "  Building wheel for mglearn (setup.py) ... \u001b[?25ldone\n",
      "\u001b[?25h  Created wheel for mglearn: filename=mglearn-0.1.9-py2.py3-none-any.whl size=582639 sha256=5b73ac97f841fa2c57398a83f6d6613ba180ca673c178841053f998175a47456\n",
      "  Stored in directory: /home/leninml/.cache/pip/wheels/87/75/37/404e66d0c4bad150f101c9a0914b11a8eccc2681559936e7f7\n",
      "Successfully built mglearn\n",
      "Installing collected packages: mglearn\n",
      "Successfully installed mglearn-0.1.9\n"
     ]
    }
   ],
   "source": [
    "!pip install mglearn"
   ]
  },
  {
   "cell_type": "code",
   "execution_count": 4,
   "metadata": {
    "slideshow": {
     "slide_type": "skip"
    }
   },
   "outputs": [
    {
     "name": "stdout",
     "output_type": "stream",
     "text": [
      "Collecting graphviz\n",
      "  Downloading graphviz-0.16-py2.py3-none-any.whl (19 kB)\n",
      "Installing collected packages: graphviz\n",
      "Successfully installed graphviz-0.16\n"
     ]
    }
   ],
   "source": [
    "!pip install graphviz"
   ]
  },
  {
   "cell_type": "code",
   "execution_count": 5,
   "metadata": {
    "slideshow": {
     "slide_type": "fragment"
    }
   },
   "outputs": [
    {
     "name": "stderr",
     "output_type": "stream",
     "text": [
      "Warning: node 'h1[0]', graph '%3' size too small for label\n",
      "Warning: node 'h1[1]', graph '%3' size too small for label\n",
      "Warning: node 'h1[2]', graph '%3' size too small for label\n",
      "Warning: node 'h2[0]', graph '%3' size too small for label\n",
      "Warning: node 'h2[1]', graph '%3' size too small for label\n",
      "Warning: node 'h2[2]', graph '%3' size too small for label\n"
     ]
    },
    {
     "data": {
      "image/svg+xml": [
       "<?xml version=\"1.0\" encoding=\"UTF-8\" standalone=\"no\"?>\n",
       "<!DOCTYPE svg PUBLIC \"-//W3C//DTD SVG 1.1//EN\"\n",
       " \"http://www.w3.org/Graphics/SVG/1.1/DTD/svg11.dtd\">\n",
       "<!-- Generated by graphviz version 2.43.0 (0)\n",
       " -->\n",
       "<!-- Title: %3 Pages: 1 -->\n",
       "<svg width=\"437pt\" height=\"261pt\"\n",
       " viewBox=\"0.00 0.00 437.00 261.00\" xmlns=\"http://www.w3.org/2000/svg\" xmlns:xlink=\"http://www.w3.org/1999/xlink\">\n",
       "<g id=\"graph0\" class=\"graph\" transform=\"scale(1 1) rotate(0) translate(4 257)\">\n",
       "<title>%3</title>\n",
       "<polygon fill=\"white\" stroke=\"transparent\" points=\"-4,4 -4,-257 433,-257 433,4 -4,4\"/>\n",
       "<g id=\"clust1\" class=\"cluster\">\n",
       "<title>cluster_0</title>\n",
       "<polygon fill=\"none\" stroke=\"white\" points=\"3,-8 3,-245 65,-245 65,-8 3,-8\"/>\n",
       "<text text-anchor=\"middle\" x=\"34\" y=\"-229.8\" font-family=\"Times,serif\" font-size=\"14.00\">inputs</text>\n",
       "</g>\n",
       "<g id=\"clust2\" class=\"cluster\">\n",
       "<title>cluster_1</title>\n",
       "<polygon fill=\"none\" stroke=\"white\" points=\"85,-35 85,-218 204,-218 204,-35 85,-35\"/>\n",
       "<text text-anchor=\"middle\" x=\"144.5\" y=\"-202.8\" font-family=\"Times,serif\" font-size=\"14.00\">hidden layer 1</text>\n",
       "</g>\n",
       "<g id=\"clust3\" class=\"cluster\">\n",
       "<title>cluster_2</title>\n",
       "<polygon fill=\"none\" stroke=\"white\" points=\"224,-35 224,-218 343,-218 343,-35 224,-35\"/>\n",
       "<text text-anchor=\"middle\" x=\"283.5\" y=\"-202.8\" font-family=\"Times,serif\" font-size=\"14.00\">hidden layer 2</text>\n",
       "</g>\n",
       "<g id=\"clust4\" class=\"cluster\">\n",
       "<title>cluster_3</title>\n",
       "<polygon fill=\"none\" stroke=\"white\" points=\"363,-89 363,-164 427,-164 427,-89 363,-89\"/>\n",
       "<text text-anchor=\"middle\" x=\"395\" y=\"-148.8\" font-family=\"Times,serif\" font-size=\"14.00\">output</text>\n",
       "</g>\n",
       "<!-- x[0] -->\n",
       "<g id=\"node1\" class=\"node\">\n",
       "<title>x[0]</title>\n",
       "<ellipse fill=\"none\" stroke=\"black\" cx=\"34\" cy=\"-196\" rx=\"18\" ry=\"18\"/>\n",
       "<text text-anchor=\"middle\" x=\"34\" y=\"-192.3\" font-family=\"Times,serif\" font-size=\"14.00\">x[0]</text>\n",
       "</g>\n",
       "<!-- h1[0] -->\n",
       "<g id=\"node5\" class=\"node\">\n",
       "<title>h1[0]</title>\n",
       "<ellipse fill=\"none\" stroke=\"black\" cx=\"144\" cy=\"-61\" rx=\"18\" ry=\"18\"/>\n",
       "<text text-anchor=\"middle\" x=\"144\" y=\"-57.3\" font-family=\"Times,serif\" font-size=\"14.00\">h1[0]</text>\n",
       "</g>\n",
       "<!-- x[0]&#45;&gt;h1[0] -->\n",
       "<g id=\"edge1\" class=\"edge\">\n",
       "<title>x[0]&#45;&gt;h1[0]</title>\n",
       "<path fill=\"none\" stroke=\"black\" d=\"M45.95,-182.31C64.71,-158.86 103.14,-110.83 125.6,-82.75\"/>\n",
       "<polygon fill=\"black\" stroke=\"black\" points=\"128.51,-84.72 132.02,-74.72 123.04,-80.35 128.51,-84.72\"/>\n",
       "</g>\n",
       "<!-- h1[1] -->\n",
       "<g id=\"node6\" class=\"node\">\n",
       "<title>h1[1]</title>\n",
       "<ellipse fill=\"none\" stroke=\"black\" cx=\"144\" cy=\"-169\" rx=\"18\" ry=\"18\"/>\n",
       "<text text-anchor=\"middle\" x=\"144\" y=\"-165.3\" font-family=\"Times,serif\" font-size=\"14.00\">h1[1]</text>\n",
       "</g>\n",
       "<!-- x[0]&#45;&gt;h1[1] -->\n",
       "<g id=\"edge2\" class=\"edge\">\n",
       "<title>x[0]&#45;&gt;h1[1]</title>\n",
       "<path fill=\"none\" stroke=\"black\" d=\"M51.88,-191.78C69.15,-187.46 96.26,-180.69 116.42,-175.64\"/>\n",
       "<polygon fill=\"black\" stroke=\"black\" points=\"117.39,-179.01 126.24,-173.19 115.69,-172.22 117.39,-179.01\"/>\n",
       "</g>\n",
       "<!-- h1[2] -->\n",
       "<g id=\"node7\" class=\"node\">\n",
       "<title>h1[2]</title>\n",
       "<ellipse fill=\"none\" stroke=\"black\" cx=\"144\" cy=\"-115\" rx=\"18\" ry=\"18\"/>\n",
       "<text text-anchor=\"middle\" x=\"144\" y=\"-111.3\" font-family=\"Times,serif\" font-size=\"14.00\">h1[2]</text>\n",
       "</g>\n",
       "<!-- x[0]&#45;&gt;h1[2] -->\n",
       "<g id=\"edge3\" class=\"edge\">\n",
       "<title>x[0]&#45;&gt;h1[2]</title>\n",
       "<path fill=\"none\" stroke=\"black\" d=\"M49.12,-185.41C67.41,-171.69 99.5,-147.63 121,-131.5\"/>\n",
       "<polygon fill=\"black\" stroke=\"black\" points=\"123.32,-134.14 129.22,-125.34 119.12,-128.54 123.32,-134.14\"/>\n",
       "</g>\n",
       "<!-- x[1] -->\n",
       "<g id=\"node2\" class=\"node\">\n",
       "<title>x[1]</title>\n",
       "<ellipse fill=\"none\" stroke=\"black\" cx=\"34\" cy=\"-142\" rx=\"18\" ry=\"18\"/>\n",
       "<text text-anchor=\"middle\" x=\"34\" y=\"-138.3\" font-family=\"Times,serif\" font-size=\"14.00\">x[1]</text>\n",
       "</g>\n",
       "<!-- x[1]&#45;&gt;h1[0] -->\n",
       "<g id=\"edge4\" class=\"edge\">\n",
       "<title>x[1]&#45;&gt;h1[0]</title>\n",
       "<path fill=\"none\" stroke=\"black\" d=\"M49.12,-131.41C67.41,-117.69 99.5,-93.63 121,-77.5\"/>\n",
       "<polygon fill=\"black\" stroke=\"black\" points=\"123.32,-80.14 129.22,-71.34 119.12,-74.54 123.32,-80.14\"/>\n",
       "</g>\n",
       "<!-- x[1]&#45;&gt;h1[1] -->\n",
       "<g id=\"edge5\" class=\"edge\">\n",
       "<title>x[1]&#45;&gt;h1[1]</title>\n",
       "<path fill=\"none\" stroke=\"black\" d=\"M51.88,-146.22C69.15,-150.54 96.26,-157.31 116.42,-162.36\"/>\n",
       "<polygon fill=\"black\" stroke=\"black\" points=\"115.69,-165.78 126.24,-164.81 117.39,-158.99 115.69,-165.78\"/>\n",
       "</g>\n",
       "<!-- x[1]&#45;&gt;h1[2] -->\n",
       "<g id=\"edge6\" class=\"edge\">\n",
       "<title>x[1]&#45;&gt;h1[2]</title>\n",
       "<path fill=\"none\" stroke=\"black\" d=\"M51.88,-137.78C69.15,-133.46 96.26,-126.69 116.42,-121.64\"/>\n",
       "<polygon fill=\"black\" stroke=\"black\" points=\"117.39,-125.01 126.24,-119.19 115.69,-118.22 117.39,-125.01\"/>\n",
       "</g>\n",
       "<!-- x[2] -->\n",
       "<g id=\"node3\" class=\"node\">\n",
       "<title>x[2]</title>\n",
       "<ellipse fill=\"none\" stroke=\"black\" cx=\"34\" cy=\"-88\" rx=\"18\" ry=\"18\"/>\n",
       "<text text-anchor=\"middle\" x=\"34\" y=\"-84.3\" font-family=\"Times,serif\" font-size=\"14.00\">x[2]</text>\n",
       "</g>\n",
       "<!-- x[2]&#45;&gt;h1[0] -->\n",
       "<g id=\"edge7\" class=\"edge\">\n",
       "<title>x[2]&#45;&gt;h1[0]</title>\n",
       "<path fill=\"none\" stroke=\"black\" d=\"M51.88,-83.78C69.15,-79.46 96.26,-72.69 116.42,-67.64\"/>\n",
       "<polygon fill=\"black\" stroke=\"black\" points=\"117.39,-71.01 126.24,-65.19 115.69,-64.22 117.39,-71.01\"/>\n",
       "</g>\n",
       "<!-- x[2]&#45;&gt;h1[1] -->\n",
       "<g id=\"edge8\" class=\"edge\">\n",
       "<title>x[2]&#45;&gt;h1[1]</title>\n",
       "<path fill=\"none\" stroke=\"black\" d=\"M49.12,-98.59C67.41,-112.31 99.5,-136.37 121,-152.5\"/>\n",
       "<polygon fill=\"black\" stroke=\"black\" points=\"119.12,-155.46 129.22,-158.66 123.32,-149.86 119.12,-155.46\"/>\n",
       "</g>\n",
       "<!-- x[2]&#45;&gt;h1[2] -->\n",
       "<g id=\"edge9\" class=\"edge\">\n",
       "<title>x[2]&#45;&gt;h1[2]</title>\n",
       "<path fill=\"none\" stroke=\"black\" d=\"M51.88,-92.22C69.15,-96.54 96.26,-103.31 116.42,-108.36\"/>\n",
       "<polygon fill=\"black\" stroke=\"black\" points=\"115.69,-111.78 126.24,-110.81 117.39,-104.99 115.69,-111.78\"/>\n",
       "</g>\n",
       "<!-- x[3] -->\n",
       "<g id=\"node4\" class=\"node\">\n",
       "<title>x[3]</title>\n",
       "<ellipse fill=\"none\" stroke=\"black\" cx=\"34\" cy=\"-34\" rx=\"18\" ry=\"18\"/>\n",
       "<text text-anchor=\"middle\" x=\"34\" y=\"-30.3\" font-family=\"Times,serif\" font-size=\"14.00\">x[3]</text>\n",
       "</g>\n",
       "<!-- x[3]&#45;&gt;h1[0] -->\n",
       "<g id=\"edge10\" class=\"edge\">\n",
       "<title>x[3]&#45;&gt;h1[0]</title>\n",
       "<path fill=\"none\" stroke=\"black\" d=\"M51.88,-38.22C69.15,-42.54 96.26,-49.31 116.42,-54.36\"/>\n",
       "<polygon fill=\"black\" stroke=\"black\" points=\"115.69,-57.78 126.24,-56.81 117.39,-50.99 115.69,-57.78\"/>\n",
       "</g>\n",
       "<!-- x[3]&#45;&gt;h1[1] -->\n",
       "<g id=\"edge11\" class=\"edge\">\n",
       "<title>x[3]&#45;&gt;h1[1]</title>\n",
       "<path fill=\"none\" stroke=\"black\" d=\"M45.95,-47.69C64.71,-71.14 103.14,-119.17 125.6,-147.25\"/>\n",
       "<polygon fill=\"black\" stroke=\"black\" points=\"123.04,-149.65 132.02,-155.28 128.51,-145.28 123.04,-149.65\"/>\n",
       "</g>\n",
       "<!-- x[3]&#45;&gt;h1[2] -->\n",
       "<g id=\"edge12\" class=\"edge\">\n",
       "<title>x[3]&#45;&gt;h1[2]</title>\n",
       "<path fill=\"none\" stroke=\"black\" d=\"M49.12,-44.59C67.41,-58.31 99.5,-82.37 121,-98.5\"/>\n",
       "<polygon fill=\"black\" stroke=\"black\" points=\"119.12,-101.46 129.22,-104.66 123.32,-95.86 119.12,-101.46\"/>\n",
       "</g>\n",
       "<!-- h2[0] -->\n",
       "<g id=\"node8\" class=\"node\">\n",
       "<title>h2[0]</title>\n",
       "<ellipse fill=\"none\" stroke=\"black\" cx=\"283\" cy=\"-61\" rx=\"18\" ry=\"18\"/>\n",
       "<text text-anchor=\"middle\" x=\"283\" y=\"-57.3\" font-family=\"Times,serif\" font-size=\"14.00\">h2[0]</text>\n",
       "</g>\n",
       "<!-- h1[0]&#45;&gt;h2[0] -->\n",
       "<g id=\"edge13\" class=\"edge\">\n",
       "<title>h1[0]&#45;&gt;h2[0]</title>\n",
       "<path fill=\"none\" stroke=\"black\" d=\"M162.07,-61C185.25,-61 226.94,-61 254.54,-61\"/>\n",
       "<polygon fill=\"black\" stroke=\"black\" points=\"254.71,-64.5 264.71,-61 254.71,-57.5 254.71,-64.5\"/>\n",
       "</g>\n",
       "<!-- h2[1] -->\n",
       "<g id=\"node9\" class=\"node\">\n",
       "<title>h2[1]</title>\n",
       "<ellipse fill=\"none\" stroke=\"black\" cx=\"283\" cy=\"-169\" rx=\"18\" ry=\"18\"/>\n",
       "<text text-anchor=\"middle\" x=\"283\" y=\"-165.3\" font-family=\"Times,serif\" font-size=\"14.00\">h2[1]</text>\n",
       "</g>\n",
       "<!-- h1[0]&#45;&gt;h2[1] -->\n",
       "<g id=\"edge14\" class=\"edge\">\n",
       "<title>h1[0]&#45;&gt;h2[1]</title>\n",
       "<path fill=\"none\" stroke=\"black\" d=\"M158.64,-71.75C182.44,-90.51 231.73,-129.37 260.28,-151.87\"/>\n",
       "<polygon fill=\"black\" stroke=\"black\" points=\"258.4,-154.85 268.42,-158.29 262.73,-149.35 258.4,-154.85\"/>\n",
       "</g>\n",
       "<!-- h2[2] -->\n",
       "<g id=\"node10\" class=\"node\">\n",
       "<title>h2[2]</title>\n",
       "<ellipse fill=\"none\" stroke=\"black\" cx=\"283\" cy=\"-115\" rx=\"18\" ry=\"18\"/>\n",
       "<text text-anchor=\"middle\" x=\"283\" y=\"-111.3\" font-family=\"Times,serif\" font-size=\"14.00\">h2[2]</text>\n",
       "</g>\n",
       "<!-- h1[0]&#45;&gt;h2[2] -->\n",
       "<g id=\"edge15\" class=\"edge\">\n",
       "<title>h1[0]&#45;&gt;h2[2]</title>\n",
       "<path fill=\"none\" stroke=\"black\" d=\"M160.98,-67.3C184.49,-76.57 228.63,-93.97 256.61,-104.99\"/>\n",
       "<polygon fill=\"black\" stroke=\"black\" points=\"255.53,-108.33 266.12,-108.74 258.1,-101.82 255.53,-108.33\"/>\n",
       "</g>\n",
       "<!-- h1[1]&#45;&gt;h2[0] -->\n",
       "<g id=\"edge16\" class=\"edge\">\n",
       "<title>h1[1]&#45;&gt;h2[0]</title>\n",
       "<path fill=\"none\" stroke=\"black\" d=\"M158.64,-158.25C182.44,-139.49 231.73,-100.63 260.28,-78.13\"/>\n",
       "<polygon fill=\"black\" stroke=\"black\" points=\"262.73,-80.65 268.42,-71.71 258.4,-75.15 262.73,-80.65\"/>\n",
       "</g>\n",
       "<!-- h1[1]&#45;&gt;h2[1] -->\n",
       "<g id=\"edge17\" class=\"edge\">\n",
       "<title>h1[1]&#45;&gt;h2[1]</title>\n",
       "<path fill=\"none\" stroke=\"black\" d=\"M162.07,-169C185.25,-169 226.94,-169 254.54,-169\"/>\n",
       "<polygon fill=\"black\" stroke=\"black\" points=\"254.71,-172.5 264.71,-169 254.71,-165.5 254.71,-172.5\"/>\n",
       "</g>\n",
       "<!-- h1[1]&#45;&gt;h2[2] -->\n",
       "<g id=\"edge18\" class=\"edge\">\n",
       "<title>h1[1]&#45;&gt;h2[2]</title>\n",
       "<path fill=\"none\" stroke=\"black\" d=\"M160.98,-162.7C184.49,-153.43 228.63,-136.03 256.61,-125.01\"/>\n",
       "<polygon fill=\"black\" stroke=\"black\" points=\"258.1,-128.18 266.12,-121.26 255.53,-121.67 258.1,-128.18\"/>\n",
       "</g>\n",
       "<!-- h1[2]&#45;&gt;h2[0] -->\n",
       "<g id=\"edge19\" class=\"edge\">\n",
       "<title>h1[2]&#45;&gt;h2[0]</title>\n",
       "<path fill=\"none\" stroke=\"black\" d=\"M160.98,-108.7C184.49,-99.43 228.63,-82.03 256.61,-71.01\"/>\n",
       "<polygon fill=\"black\" stroke=\"black\" points=\"258.1,-74.18 266.12,-67.26 255.53,-67.67 258.1,-74.18\"/>\n",
       "</g>\n",
       "<!-- h1[2]&#45;&gt;h2[1] -->\n",
       "<g id=\"edge20\" class=\"edge\">\n",
       "<title>h1[2]&#45;&gt;h2[1]</title>\n",
       "<path fill=\"none\" stroke=\"black\" d=\"M160.98,-121.3C184.49,-130.57 228.63,-147.97 256.61,-158.99\"/>\n",
       "<polygon fill=\"black\" stroke=\"black\" points=\"255.53,-162.33 266.12,-162.74 258.1,-155.82 255.53,-162.33\"/>\n",
       "</g>\n",
       "<!-- h1[2]&#45;&gt;h2[2] -->\n",
       "<g id=\"edge21\" class=\"edge\">\n",
       "<title>h1[2]&#45;&gt;h2[2]</title>\n",
       "<path fill=\"none\" stroke=\"black\" d=\"M162.07,-115C185.25,-115 226.94,-115 254.54,-115\"/>\n",
       "<polygon fill=\"black\" stroke=\"black\" points=\"254.71,-118.5 264.71,-115 254.71,-111.5 254.71,-118.5\"/>\n",
       "</g>\n",
       "<!-- y -->\n",
       "<g id=\"node11\" class=\"node\">\n",
       "<title>y</title>\n",
       "<ellipse fill=\"none\" stroke=\"black\" cx=\"395\" cy=\"-115\" rx=\"18\" ry=\"18\"/>\n",
       "<text text-anchor=\"middle\" x=\"395\" y=\"-111.3\" font-family=\"Times,serif\" font-size=\"14.00\">y</text>\n",
       "</g>\n",
       "<!-- h2[0]&#45;&gt;y -->\n",
       "<g id=\"edge22\" class=\"edge\">\n",
       "<title>h2[0]&#45;&gt;y</title>\n",
       "<path fill=\"none\" stroke=\"black\" d=\"M299.76,-68.74C318,-77.69 348.24,-92.54 369.54,-102.99\"/>\n",
       "<polygon fill=\"black\" stroke=\"black\" points=\"368.1,-106.19 378.62,-107.45 371.19,-99.9 368.1,-106.19\"/>\n",
       "</g>\n",
       "<!-- h2[1]&#45;&gt;y -->\n",
       "<g id=\"edge23\" class=\"edge\">\n",
       "<title>h2[1]&#45;&gt;y</title>\n",
       "<path fill=\"none\" stroke=\"black\" d=\"M299.76,-161.26C318,-152.31 348.24,-137.46 369.54,-127.01\"/>\n",
       "<polygon fill=\"black\" stroke=\"black\" points=\"371.19,-130.1 378.62,-122.55 368.1,-123.81 371.19,-130.1\"/>\n",
       "</g>\n",
       "<!-- h2[2]&#45;&gt;y -->\n",
       "<g id=\"edge24\" class=\"edge\">\n",
       "<title>h2[2]&#45;&gt;y</title>\n",
       "<path fill=\"none\" stroke=\"black\" d=\"M301.19,-115C318.79,-115 346.39,-115 366.93,-115\"/>\n",
       "<polygon fill=\"black\" stroke=\"black\" points=\"366.93,-118.5 376.93,-115 366.93,-111.5 366.93,-118.5\"/>\n",
       "</g>\n",
       "</g>\n",
       "</svg>\n"
      ],
      "text/plain": [
       "<graphviz.dot.Digraph at 0x7fd5b0547be0>"
      ]
     },
     "execution_count": 5,
     "metadata": {},
     "output_type": "execute_result"
    }
   ],
   "source": [
    "import mglearn\n",
    "mglearn.plots.plot_two_hidden_layer_graph()"
   ]
  },
  {
   "cell_type": "markdown",
   "metadata": {
    "slideshow": {
     "slide_type": "fragment"
    }
   },
   "source": [
    "$y = \\phi(\\textbf{W}^T \\cdot \\textbf{x})$"
   ]
  },
  {
   "cell_type": "markdown",
   "metadata": {
    "slideshow": {
     "slide_type": "subslide"
    }
   },
   "source": [
    "### Estructura de una Red Neuronal Convolucional\n",
    "\n",
    "<center>\n",
    "    <img src=\"images/ConvNet.png\" width=60%/>\n",
    "</center>"
   ]
  },
  {
   "cell_type": "markdown",
   "metadata": {
    "slideshow": {
     "slide_type": "subslide"
    }
   },
   "source": [
    "### Conceptos Generales - Función de Coste (Loss Function)\n",
    "\n",
    "* Es aquella que debe ser **minimizada** durante el entrenamiento\n",
    "* Es una medida del éxito del entrenamiento\n",
    "\n",
    "Ejemplos:\n",
    "  - Binary Cross Entropy: $-y\\log(p)+(1-y)\\log(1-p))$\n",
    "  - Categorical Cross Entropy:$-\\sum_{c=1}^{M}y_{o,c}\\log(p_{o,c})$\n",
    "  - Mean Square Error:$\\frac{1}{N}\\sum_i^N (\\hat{y}_i-y_i)^2$\n",
    "  \n",
    "$M$: Número de clases\n",
    "\n",
    "$p$: probabilidad de que la observación $o$ sea de la clase $c$\n",
    "\n",
    "$N$: cantidad de ejemplos\n",
    "\n",
    "$\\hat{y}$: predicción del modelo"
   ]
  },
  {
   "cell_type": "markdown",
   "metadata": {
    "slideshow": {
     "slide_type": "notes"
    }
   },
   "source": [
    "https://ml-cheatsheet.readthedocs.io/en/latest/loss_functions.html"
   ]
  },
  {
   "cell_type": "markdown",
   "metadata": {
    "slideshow": {
     "slide_type": "subslide"
    }
   },
   "source": [
    "### Conceptos Generales - Algoritmo de Optimización\n",
    "\n",
    "* Procedimiento para la actualización de los pesos del modelo de acuerdo a la función de coste\n",
    "* Ejemplos: Adagrad, Adadelta, Adam, SGD, RMSProp, etc...\n",
    "#### SGD\n",
    "\n",
    "La minimización de una función de coste (**loss function**) $J(z,w)$ de un problema de aprendizaje con una **distribución de probabilidad** desconocida $P(z)$\n",
    "\n",
    "Minimizar -> $C(w) = E(J(z,w)) = \\int J(z,w)dP(z)$, lo que da:\n",
    "\n",
    "$w_{t+1} = w_{t}-\\epsilon_{t}\\nabla_{w}J(z,w)$"
   ]
  },
  {
   "cell_type": "markdown",
   "metadata": {
    "slideshow": {
     "slide_type": "subslide"
    }
   },
   "source": [
    "### Conceptos Generales - Funciones de Activación\n",
    "\n",
    "Permiten agrandar el espacio de hipótesis de un modelo coneccionista de aprendizaje al introducir **no linealidad** en el sistema\n",
    "\n",
    "- ReLU: $max(0,z)$. Evita el \"vanishing gradient problem\" \n",
    "- Sigmoid: $S(z) = \\frac{1}{1+e^{-z}}$\n",
    "- SoftMax (multi-class logistic regression): Calcula las probabilidades de distribución de un evento en $n$ maneras diferentes (i.e. la probabilidad de cada clase con respecto a todas las clases)\n",
    "\n",
    "$\\sigma(\\textbf{z})_i = \\frac{e^{z_i}}{\\sum_{j=1}^Ke^{z_j}}$"
   ]
  },
  {
   "cell_type": "code",
   "execution_count": 8,
   "metadata": {
    "slideshow": {
     "slide_type": "skip"
    }
   },
   "outputs": [],
   "source": [
    "import numpy as np\n",
    "import matplotlib.pyplot as plt\n",
    "%matplotlib inline"
   ]
  },
  {
   "cell_type": "code",
   "execution_count": 27,
   "metadata": {
    "slideshow": {
     "slide_type": "subslide"
    }
   },
   "outputs": [
    {
     "data": {
      "image/png": "[encoded data removed]",
      "text/plain": [
       "<Figure size 432x288 with 1 Axes>"
      ]
     },
     "metadata": {
      "needs_background": "light"
     },
     "output_type": "display_data"
    }
   ],
   "source": [
    "z = np.linspace(-5, 5, 100)\n",
    "def relu(z):\n",
    "    return [max(0,i) for i in z]\n",
    "plt.plot(z, relu(z))\n",
    "plt.grid()"
   ]
  },
  {
   "cell_type": "code",
   "execution_count": 26,
   "metadata": {
    "slideshow": {
     "slide_type": "subslide"
    }
   },
   "outputs": [
    {
     "data": {
      "image/png": "[encoded data removed]",
      "text/plain": [
       "<Figure size 432x288 with 1 Axes>"
      ]
     },
     "metadata": {
      "needs_background": "light"
     },
     "output_type": "display_data"
    }
   ],
   "source": [
    "def sigmoid(z):\n",
    "    return 1/(1+np.exp(-z))\n",
    "plt.plot(z, sigmoid(z))\n",
    "plt.grid()"
   ]
  },
  {
   "cell_type": "markdown",
   "metadata": {
    "slideshow": {
     "slide_type": "slide"
    }
   },
   "source": [
    "### Técnicas de Evaluación de Modelos de Machine Learning (ML)\n",
    "\n",
    "* La idea es medir la **capacidad de generalizar del modelo**\n",
    "* Bias-Variance: el error de bias es la diferencia entre el valor esperado y el valor observado. En cambio, la varianza es la flexibilidad de aprender patrones en los datos observados. Alta Varianza --> **overfitting**\n",
    "\n",
    "<center>\n",
    "    <img src=\"images/generalization1.png\", width=60%/>\n",
    "</center>"
   ]
  },
  {
   "cell_type": "markdown",
   "metadata": {
    "slideshow": {
     "slide_type": "subslide"
    }
   },
   "source": [
    "### Técnicas de Evaluación de Modelos de Machine Learning (ML)\n",
    "\n",
    "<center>\n",
    "    <img src=\"images/overfitting.png\", width=60%/>\n",
    "</center>"
   ]
  },
  {
   "cell_type": "markdown",
   "metadata": {
    "slideshow": {
     "slide_type": "subslide"
    }
   },
   "source": [
    "#### Hold out \n",
    "\n",
    "Consiste en separar los datos en: entrenamiento (train), validación (validation) y testeo(test)\n",
    "\n",
    "<center>\n",
    "    <img src=\"images/train-valid-test.png\", width=60%/>\n",
    "</center>\n"
   ]
  },
  {
   "cell_type": "markdown",
   "metadata": {
    "slideshow": {
     "slide_type": "subslide"
    }
   },
   "source": [
    "#### K-Fold\n",
    "\n",
    "<center>\n",
    "    <img src=\"images/kfold.png\", width=60%/>\n",
    "</center>\n"
   ]
  },
  {
   "cell_type": "code",
   "execution_count": 30,
   "metadata": {
    "slideshow": {
     "slide_type": "fragment"
    }
   },
   "outputs": [
    {
     "data": {
      "text/plain": [
       "2"
      ]
     },
     "execution_count": 30,
     "metadata": {},
     "output_type": "execute_result"
    }
   ],
   "source": [
    "data = np.arange(start=1, stop=10, step=1)\n",
    "k = 4\n",
    "num_val_samples = len(data)//k\n",
    "num_val_samples"
   ]
  },
  {
   "cell_type": "code",
   "execution_count": 33,
   "metadata": {
    "slideshow": {
     "slide_type": "fragment"
    }
   },
   "outputs": [
    {
     "data": {
      "text/plain": [
       "array([5, 6, 1, 2, 8, 7, 3, 9, 4])"
      ]
     },
     "execution_count": 33,
     "metadata": {},
     "output_type": "execute_result"
    }
   ],
   "source": [
    "np.random.shuffle(data)\n",
    "data"
   ]
  },
  {
   "cell_type": "code",
   "execution_count": 44,
   "metadata": {
    "slideshow": {
     "slide_type": "fragment"
    }
   },
   "outputs": [
    {
     "name": "stdout",
     "output_type": "stream",
     "text": [
      "valdata: [5 6]\n",
      "traindata: [1 2 8 7 3 9 4]\n",
      "valdata: [1 2]\n",
      "traindata: [5 6 8 7 3 9 4]\n",
      "valdata: [8 7]\n",
      "traindata: [5 6 1 2 3 9 4]\n",
      "valdata: [3 9]\n",
      "traindata: [5 6 1 2 8 7 4]\n"
     ]
    }
   ],
   "source": [
    "for fold in range(k):\n",
    "    val_data = data[num_val_samples*fold:num_val_samples*(fold+1)]\n",
    "    print('valdata: {}'.format(val_data))\n",
    "    train_data = np.concatenate((data[:num_val_samples*fold], data[num_val_samples*(fold+1):]))\n",
    "    print('traindata: {}'.format(train_data))\n"
   ]
  },
  {
   "cell_type": "markdown",
   "metadata": {
    "slideshow": {
     "slide_type": "slide"
    }
   },
   "source": [
    "### Métricas para Evaluar el Desempeño\n",
    "\n",
    "De acuerdo a Canbek et.al, 2017, existen 22 medidas y 22 métricas para clasificación binaria\n",
    "<center>\n",
    "    <img src=\"images/roadmapmetric.png\", width=60%/>\n",
    "</center>"
   ]
  },
  {
   "cell_type": "markdown",
   "metadata": {
    "slideshow": {
     "slide_type": "subslide"
    }
   },
   "source": [
    "### Curva ROC\n",
    "\n"
   ]
  },
  {
   "cell_type": "code",
   "execution_count": 53,
   "metadata": {
    "slideshow": {
     "slide_type": "fragment"
    }
   },
   "outputs": [
    {
     "data": {
      "text/plain": [
       "(100, 20)"
      ]
     },
     "execution_count": 53,
     "metadata": {},
     "output_type": "execute_result"
    }
   ],
   "source": [
    "from sklearn import datasets, metrics, model_selection, svm\n",
    "X, y = datasets.make_classification(random_state=0)\n",
    "X.shape"
   ]
  },
  {
   "cell_type": "code",
   "execution_count": 46,
   "metadata": {
    "slideshow": {
     "slide_type": "fragment"
    }
   },
   "outputs": [
    {
     "data": {
      "image/png": "[encoded data removed]",
      "text/plain": [
       "<Figure size 432x288 with 1 Axes>"
      ]
     },
     "metadata": {
      "needs_background": "light"
     },
     "output_type": "display_data"
    }
   ],
   "source": [
    "X_train, X_test, y_train, y_test = model_selection.train_test_split(X, y, random_state=0)\n",
    "clf = svm.SVC(random_state=0)\n",
    "clf.fit(X_train, y_train)\n",
    "metrics.plot_roc_curve(clf, X_test, y_test)    \n",
    "plt.show() "
   ]
  }
 ],
 "metadata": {
  "celltoolbar": "Slideshow",
  "kernelspec": {
   "display_name": "Python 3",
   "language": "python",
   "name": "python3"
  },
  "language_info": {
   "codemirror_mode": {
    "name": "ipython",
    "version": 3
   },
   "file_extension": ".py",
   "mimetype": "text/x-python",
   "name": "python",
   "nbconvert_exporter": "python",
   "pygments_lexer": "ipython3",
   "version": "3.8.5"
  },
  "rise": {
   "scroll": true,
   "theme": "blood"
  }
 },
 "nbformat": 4,
 "nbformat_minor": 4
}
