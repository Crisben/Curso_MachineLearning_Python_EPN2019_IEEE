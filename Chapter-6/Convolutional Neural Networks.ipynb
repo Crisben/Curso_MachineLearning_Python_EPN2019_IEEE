{
 "cells": [
  {
   "cell_type": "markdown",
   "metadata": {},
   "source": [
    "## Resolver el problema del Mnist con Redes neuronales multicapa"
   ]
  },
  {
   "cell_type": "code",
   "execution_count": 1,
   "metadata": {},
   "outputs": [],
   "source": [
    "import matplotlib.pyplot as plt\n",
    "import numpy as np\n",
    "from sklearn.datasets import fetch_openml\n",
    "from sklearn.neural_network import MLPClassifier"
   ]
  },
  {
   "cell_type": "markdown",
   "metadata": {},
   "source": [
    "Descargando el dataset **mnist**"
   ]
  },
  {
   "cell_type": "code",
   "execution_count": 3,
   "metadata": {},
   "outputs": [],
   "source": [
    "X, y = fetch_openml('mnist_784', version=1, return_X_y=True)\n"
   ]
  },
  {
   "cell_type": "markdown",
   "metadata": {},
   "source": [
    "El dataset $\\mathcal{D}$ está formado por las entradas $\\mathbf{\\mathcal{X}}$ y las salidas $\\mathcal{Y}$. Donde $\\mathbf{\\mathcal{X}}$ tiene 70000 ejemplos con 784 componentes (features)"
   ]
  },
  {
   "cell_type": "code",
   "execution_count": 4,
   "metadata": {},
   "outputs": [
    {
     "name": "stdout",
     "output_type": "stream",
     "text": [
      "X tiene forma de :  (70000, 784)\n",
      "y tiene forma de :  (70000,)\n"
     ]
    }
   ],
   "source": [
    "print('X tiene forma de : ', np.shape(X))\n",
    "print('y tiene forma de : ', np.shape(y))"
   ]
  },
  {
   "cell_type": "code",
   "execution_count": 5,
   "metadata": {},
   "outputs": [
    {
     "data": {
      "text/plain": [
       "array([[0., 0., 0., 0., 0.],\n",
       "       [0., 0., 0., 0., 0.],\n",
       "       [0., 0., 0., 0., 0.],\n",
       "       [0., 0., 0., 0., 0.],\n",
       "       [0., 0., 0., 0., 0.]])"
      ]
     },
     "execution_count": 5,
     "metadata": {},
     "output_type": "execute_result"
    }
   ],
   "source": [
    "X[0:5,100:105]"
   ]
  },
  {
   "cell_type": "code",
   "execution_count": 6,
   "metadata": {},
   "outputs": [
    {
     "data": {
      "text/plain": [
       "array(['5', '0', '4', '1', '9'], dtype=object)"
      ]
     },
     "execution_count": 6,
     "metadata": {},
     "output_type": "execute_result"
    }
   ],
   "source": [
    "y[0:5]"
   ]
  },
  {
   "cell_type": "code",
   "execution_count": 7,
   "metadata": {},
   "outputs": [
    {
     "data": {
      "text/plain": [
       "255.0"
      ]
     },
     "execution_count": 7,
     "metadata": {},
     "output_type": "execute_result"
    }
   ],
   "source": [
    "max_x = np.max(X[0,:])\n",
    "max_x"
   ]
  },
  {
   "cell_type": "code",
   "execution_count": 8,
   "metadata": {},
   "outputs": [],
   "source": [
    "X = X/max_x"
   ]
  },
  {
   "cell_type": "code",
   "execution_count": 9,
   "metadata": {},
   "outputs": [
    {
     "name": "stdout",
     "output_type": "stream",
     "text": [
      "(56000, 784)\n",
      "['5' '4' '8' '0' '2']\n"
     ]
    }
   ],
   "source": [
    "from sklearn.model_selection import train_test_split\n",
    "X_train, X_test, y_train, y_test = train_test_split(X, y, test_size=0.2, random_state=42)\n",
    "print(np.shape(X_train))\n",
    "print(y_train[0:5])"
   ]
  },
  {
   "cell_type": "markdown",
   "metadata": {},
   "source": [
    "Cual es el valor máximo que tiene **X**"
   ]
  },
  {
   "cell_type": "code",
   "execution_count": 10,
   "metadata": {},
   "outputs": [
    {
     "data": {
      "text/plain": [
       "<matplotlib.image.AxesImage at 0x7fc2b64d5a20>"
      ]
     },
     "execution_count": 10,
     "metadata": {},
     "output_type": "execute_result"
    },
    {
     "data": {
      "image/png": "[encoded data removed]",
      "text/plain": [
       "<Figure size 432x288 with 1 Axes>"
      ]
     },
     "metadata": {
      "needs_background": "light"
     },
     "output_type": "display_data"
    }
   ],
   "source": [
    "ejemplo_1 = X[1,:].reshape(28,28)\n",
    "plt.imshow(ejemplo_1, cmap='gray')"
   ]
  },
  {
   "cell_type": "code",
   "execution_count": 11,
   "metadata": {},
   "outputs": [],
   "source": [
    "red_mnist = MLPClassifier(hidden_layer_sizes=(50,), \n",
    "                          max_iter=1000,\n",
    "                          alpha=1e-4,\n",
    "                          solver='sgd',\n",
    "                          verbose=10,\n",
    "                          tol=1e-4,\n",
    "                          random_state=1,\n",
    "                          learning_rate_init=0.1,\n",
    "                          early_stopping=True)"
   ]
  },
  {
   "cell_type": "code",
   "execution_count": 12,
   "metadata": {},
   "outputs": [
    {
     "name": "stdout",
     "output_type": "stream",
     "text": [
      "Iteration 1, loss = 0.34063459\n",
      "Validation score: 0.935536\n",
      "Iteration 2, loss = 0.16452324\n",
      "Validation score: 0.950357\n",
      "Iteration 3, loss = 0.12467594\n",
      "Validation score: 0.960714\n",
      "Iteration 4, loss = 0.09929109\n",
      "Validation score: 0.961607\n",
      "Iteration 5, loss = 0.08434841\n",
      "Validation score: 0.966429\n",
      "Iteration 6, loss = 0.07340417\n",
      "Validation score: 0.967143\n",
      "Iteration 7, loss = 0.06300494\n",
      "Validation score: 0.966250\n",
      "Iteration 8, loss = 0.05522086\n",
      "Validation score: 0.968214\n",
      "Iteration 9, loss = 0.05021341\n",
      "Validation score: 0.970536\n",
      "Iteration 10, loss = 0.04554517\n",
      "Validation score: 0.968036\n",
      "Iteration 11, loss = 0.04034108\n",
      "Validation score: 0.968214\n",
      "Iteration 12, loss = 0.03605949\n",
      "Validation score: 0.970357\n",
      "Iteration 13, loss = 0.03326069\n",
      "Validation score: 0.968571\n",
      "Iteration 14, loss = 0.02900176\n",
      "Validation score: 0.970536\n",
      "Iteration 15, loss = 0.02576854\n",
      "Validation score: 0.970357\n",
      "Iteration 16, loss = 0.02451592\n",
      "Validation score: 0.969643\n",
      "Iteration 17, loss = 0.02287873\n",
      "Validation score: 0.966607\n",
      "Iteration 18, loss = 0.02061575\n",
      "Validation score: 0.970357\n",
      "Iteration 19, loss = 0.01675707\n",
      "Validation score: 0.968929\n",
      "Iteration 20, loss = 0.01589309\n",
      "Validation score: 0.970357\n",
      "Validation score did not improve more than tol=0.000100 for 10 consecutive epochs. Stopping.\n"
     ]
    },
    {
     "data": {
      "text/plain": [
       "MLPClassifier(activation='relu', alpha=0.0001, batch_size='auto', beta_1=0.9,\n",
       "       beta_2=0.999, early_stopping=True, epsilon=1e-08,\n",
       "       hidden_layer_sizes=(50,), learning_rate='constant',\n",
       "       learning_rate_init=0.1, max_iter=1000, momentum=0.9,\n",
       "       n_iter_no_change=10, nesterovs_momentum=True, power_t=0.5,\n",
       "       random_state=1, shuffle=True, solver='sgd', tol=0.0001,\n",
       "       validation_fraction=0.1, verbose=10, warm_start=False)"
      ]
     },
     "execution_count": 12,
     "metadata": {},
     "output_type": "execute_result"
    }
   ],
   "source": [
    "red_mnist.fit(X_train, y_train)"
   ]
  },
  {
   "cell_type": "markdown",
   "metadata": {},
   "source": [
    "Rendimiento del entrenamiento"
   ]
  },
  {
   "cell_type": "code",
   "execution_count": 13,
   "metadata": {},
   "outputs": [
    {
     "data": {
      "text/plain": [
       "0.9868571428571429"
      ]
     },
     "execution_count": 13,
     "metadata": {},
     "output_type": "execute_result"
    }
   ],
   "source": [
    "red_mnist.score(X_train, y_train)\n"
   ]
  },
  {
   "cell_type": "markdown",
   "metadata": {},
   "source": [
    "Rendimiento del testeo"
   ]
  },
  {
   "cell_type": "code",
   "execution_count": 14,
   "metadata": {},
   "outputs": [
    {
     "data": {
      "text/plain": [
       "0.9689285714285715"
      ]
     },
     "execution_count": 14,
     "metadata": {},
     "output_type": "execute_result"
    }
   ],
   "source": [
    "red_mnist.score(X_test, y_test)"
   ]
  },
  {
   "cell_type": "code",
   "execution_count": 26,
   "metadata": {},
   "outputs": [
    {
     "data": {
      "text/plain": [
       "10104"
      ]
     },
     "execution_count": 26,
     "metadata": {},
     "output_type": "execute_result"
    }
   ],
   "source": [
    "import random\n",
    "muestra = random.randint(0, len(X_test))\n",
    "muestra"
   ]
  },
  {
   "cell_type": "code",
   "execution_count": 27,
   "metadata": {},
   "outputs": [
    {
     "data": {
      "text/plain": [
       "<matplotlib.image.AxesImage at 0x7fc2b6437780>"
      ]
     },
     "execution_count": 27,
     "metadata": {},
     "output_type": "execute_result"
    },
    {
     "data": {
      "image/png": "[encoded data removed]",
      "text/plain": [
       "<Figure size 432x288 with 1 Axes>"
      ]
     },
     "metadata": {
      "needs_background": "light"
     },
     "output_type": "display_data"
    }
   ],
   "source": [
    "X_muestra = X_test[muestra,:]\n",
    "X_grafico = X_muestra\n",
    "plt.imshow(X_grafico.reshape(28,28), cmap='gray')"
   ]
  },
  {
   "cell_type": "code",
   "execution_count": 28,
   "metadata": {},
   "outputs": [
    {
     "data": {
      "text/plain": [
       "array(['4'], dtype='<U1')"
      ]
     },
     "execution_count": 28,
     "metadata": {},
     "output_type": "execute_result"
    }
   ],
   "source": [
    "y_pred = red_mnist.predict(X_muestra.reshape(1,-1))\n",
    "y_pred"
   ]
  },
  {
   "cell_type": "markdown",
   "metadata": {},
   "source": [
    "## Evaluación del Classificador\n",
    "Para la evaluación del classificador se puede utilizar la matriz de confusión y el reporte del clasificador"
   ]
  },
  {
   "cell_type": "code",
   "execution_count": 35,
   "metadata": {},
   "outputs": [],
   "source": [
    "y_pred = red_mnist.predict(X_test)"
   ]
  },
  {
   "cell_type": "code",
   "execution_count": 37,
   "metadata": {},
   "outputs": [
    {
     "name": "stdout",
     "output_type": "stream",
     "text": [
      "              precision    recall  f1-score   support\n",
      "\n",
      "           0       0.98      0.99      0.98      1343\n",
      "           1       0.98      0.98      0.98      1600\n",
      "           2       0.96      0.97      0.97      1380\n",
      "           3       0.97      0.96      0.96      1433\n",
      "           4       0.97      0.96      0.97      1295\n",
      "           5       0.97      0.96      0.97      1273\n",
      "           6       0.98      0.98      0.98      1396\n",
      "           7       0.97      0.97      0.97      1503\n",
      "           8       0.94      0.96      0.95      1357\n",
      "           9       0.96      0.96      0.96      1420\n",
      "\n",
      "   micro avg       0.97      0.97      0.97     14000\n",
      "   macro avg       0.97      0.97      0.97     14000\n",
      "weighted avg       0.97      0.97      0.97     14000\n",
      "\n"
     ]
    }
   ],
   "source": [
    "from sklearn.metrics import classification_report\n",
    "cr = classification_report(y_true=y_test, y_pred=y_pred)\n",
    "print(cr)"
   ]
  },
  {
   "cell_type": "code",
   "execution_count": 38,
   "metadata": {},
   "outputs": [
    {
     "data": {
      "text/plain": [
       "array([[1325,    1,    2,    0,    1,    1,    2,    2,    8,    1],\n",
       "       [   0, 1576,    6,    2,    2,    0,    1,    4,    8,    1],\n",
       "       [   5,    4, 1340,    3,    3,    2,    5,    8,    8,    2],\n",
       "       [   3,    1,   13, 1369,    1,   12,    0,    8,   20,    6],\n",
       "       [   5,    0,    6,    2, 1240,    2,    4,    3,    3,   30],\n",
       "       [   3,    5,    1,   16,    2, 1223,    7,    2,   13,    1],\n",
       "       [   4,    2,    3,    0,    5,    9, 1370,    0,    3,    0],\n",
       "       [   2,    3,   13,    3,    5,    1,    1, 1461,    2,   12],\n",
       "       [   3,   10,    9,    8,    3,    5,    3,    7, 1300,    9],\n",
       "       [   6,    4,    2,    4,   11,    4,    0,   15,   13, 1361]])"
      ]
     },
     "execution_count": 38,
     "metadata": {},
     "output_type": "execute_result"
    }
   ],
   "source": [
    "from sklearn.metrics import confusion_matrix\n",
    "labels = ['0', '1','2', '3', '4', '5', '6', '7', '8', '9']\n",
    "cm = confusion_matrix(y_true=y_test, y_pred=y_pred, labels=labels)\n",
    "cm"
   ]
  },
  {
   "cell_type": "markdown",
   "metadata": {},
   "source": [
    "Guardando el modelo"
   ]
  },
  {
   "cell_type": "code",
   "execution_count": 96,
   "metadata": {},
   "outputs": [],
   "source": [
    "import pickle\n",
    "filename = 'red_mnist_mlp.sav'\n",
    "pickle.dump(red_mnist, open(filename, 'wb'))"
   ]
  },
  {
   "cell_type": "markdown",
   "metadata": {},
   "source": [
    "Cargar el modelo"
   ]
  },
  {
   "cell_type": "code",
   "execution_count": 98,
   "metadata": {},
   "outputs": [
    {
     "name": "stdout",
     "output_type": "stream",
     "text": [
      "0.9689285714285715\n"
     ]
    }
   ],
   "source": [
    "loaded_model = pickle.load(open(filename, 'rb'))\n",
    "result = loaded_model.score(X_test,y_test)\n",
    "print(result)"
   ]
  },
  {
   "cell_type": "markdown",
   "metadata": {},
   "source": [
    "## Conclusión\n",
    "\n",
    "Para resolver el problema de reconocimmiento de dígitos de la base de datos MNIST con Redes neuronales multicapa (Feed Forward Neural Nets) cada imagen de $28 \\times 28$ se transforma en el vector de componentes **x** de 784 valores. Con los valores indicados para el entrenamiento se ha logrado entrenar una red capaz de reconocer este dataset"
   ]
  },
  {
   "cell_type": "markdown",
   "metadata": {},
   "source": [
    "# Convolutional Neural Networks\n",
    "## Convolución bidimensional\n",
    "\n",
    "Proponga una función de python para calcular la convolución de una matriz de $5 \\times 5$ con un kernel de $3\\times3$. Considere un stride de 1"
   ]
  },
  {
   "cell_type": "code",
   "execution_count": 29,
   "metadata": {},
   "outputs": [
    {
     "data": {
      "text/plain": [
       "array([[3, 3, 2, 1, 0],\n",
       "       [0, 0, 1, 3, 1],\n",
       "       [3, 1, 2, 2, 3],\n",
       "       [2, 0, 0, 2, 2],\n",
       "       [2, 0, 0, 0, 1]])"
      ]
     },
     "execution_count": 29,
     "metadata": {},
     "output_type": "execute_result"
    }
   ],
   "source": [
    "imagen =np.array([[3,3,2,1,0],[0,0,1,3,1],[3,1,2,2,3],[2,0,0,2,2], [2,0,0,0,1]])\n",
    "imagen"
   ]
  },
  {
   "cell_type": "code",
   "execution_count": 30,
   "metadata": {},
   "outputs": [
    {
     "data": {
      "text/plain": [
       "array([[0, 1, 2],\n",
       "       [2, 2, 0],\n",
       "       [0, 1, 2]])"
      ]
     },
     "execution_count": 30,
     "metadata": {},
     "output_type": "execute_result"
    }
   ],
   "source": [
    "kernel = np.array([[0,1,2],[2,2,0], [0,1,2]])\n",
    "kernel"
   ]
  },
  {
   "cell_type": "code",
   "execution_count": 34,
   "metadata": {},
   "outputs": [
    {
     "data": {
      "text/plain": [
       "12"
      ]
     },
     "execution_count": 34,
     "metadata": {},
     "output_type": "execute_result"
    }
   ],
   "source": [
    "stride = 1\n",
    "kernel_filas, kernel_col = np.shape(kernel)\n",
    "imagen_filas, imagen_col = np.shape(imagen)\n",
    "\n",
    "conv_imagen_filas = imagen_filas-kernel_filas+1\n",
    "conv_imagen_col = imagen_col-kernel+1\n",
    "conv_imagen = np.zeros(conv_imagen_filas, conv_imagen_col)\n",
    "\n",
    "sub_imagen = imagen[0:kernel_filas, 0:kernel_col]\n",
    "conv = np.sum(np.multiply(sub_imagen, kernel))\n",
    "conv"
   ]
  },
  {
   "cell_type": "markdown",
   "metadata": {},
   "source": [
    "## Resolviendo el mnist con ConVNet\n",
    "A continuación se propone una red neuronal convolucional para clasificar los dígitos del 0 al 9"
   ]
  },
  {
   "cell_type": "markdown",
   "metadata": {},
   "source": [
    "Primero importamos el dataset desde la librería de Keras"
   ]
  },
  {
   "cell_type": "code",
   "execution_count": 84,
   "metadata": {},
   "outputs": [],
   "source": [
    "from keras.datasets import mnist\n",
    "(X_train_cnn, y_train_cnn), (X_test_cnn, y_test_cnn) = mnist.load_data()"
   ]
  },
  {
   "cell_type": "markdown",
   "metadata": {},
   "source": [
    "Grafiquemos la 666 *muestra* del dataset de entrenamiento:"
   ]
  },
  {
   "cell_type": "code",
   "execution_count": 85,
   "metadata": {
    "scrolled": true
   },
   "outputs": [
    {
     "name": "stdout",
     "output_type": "stream",
     "text": [
      "El dataset de entrenamiento tiene una forma de: (60000, 28, 28)\n"
     ]
    },
    {
     "data": {
      "text/plain": [
       "<matplotlib.image.AxesImage at 0x7fc25055a5c0>"
      ]
     },
     "execution_count": 85,
     "metadata": {},
     "output_type": "execute_result"
    },
    {
     "data": {
      "image/png": "[encoded data removed]",
      "text/plain": [
       "<Figure size 432x288 with 1 Axes>"
      ]
     },
     "metadata": {
      "needs_background": "light"
     },
     "output_type": "display_data"
    }
   ],
   "source": [
    "print('El dataset de entrenamiento tiene una forma de: {}'.format(np.shape(X_train_cnn)))\n",
    "plt.imshow(X_train_cnn[666], cmap='gray')"
   ]
  },
  {
   "cell_type": "markdown",
   "metadata": {},
   "source": [
    "Note que cada ejemplo o muestra tanto del dataset de entrenamiento como de testeo contiene imagenes de $28 \\times 28$ a diferencia del dataset que se utilizó para la red neuronal multicapa en que cada muestra contenía arreglos de $28^2$"
   ]
  },
  {
   "cell_type": "code",
   "execution_count": 86,
   "metadata": {},
   "outputs": [
    {
     "data": {
      "text/plain": [
       "(28, 28)"
      ]
     },
     "execution_count": 86,
     "metadata": {},
     "output_type": "execute_result"
    }
   ],
   "source": [
    "X_train_cnn[666].shape"
   ]
  },
  {
   "cell_type": "markdown",
   "metadata": {},
   "source": [
    "La correspondiente etiqueta para la muestra es:"
   ]
  },
  {
   "cell_type": "code",
   "execution_count": 87,
   "metadata": {},
   "outputs": [
    {
     "data": {
      "text/plain": [
       "0"
      ]
     },
     "execution_count": 87,
     "metadata": {},
     "output_type": "execute_result"
    }
   ],
   "source": [
    "y_train_cnn[666]"
   ]
  },
  {
   "cell_type": "markdown",
   "metadata": {},
   "source": [
    "Para resolver la convolucional es necesario poner en el siguiente formato los datos: <numero_muestras, tamano_h, tamano_v, canales_imagen>"
   ]
  },
  {
   "cell_type": "code",
   "execution_count": 88,
   "metadata": {},
   "outputs": [],
   "source": [
    "X_train_cnn = X_train_cnn.reshape(60000,28,28,1)\n",
    "X_test_cnn = X_test_cnn.reshape(10000,28,28,1)"
   ]
  },
  {
   "cell_type": "markdown",
   "metadata": {},
   "source": [
    "Como es un problema de **clasificacion** se debe dar formato **one hot** a las salidas $\\mathcal{Y}$"
   ]
  },
  {
   "cell_type": "code",
   "execution_count": 89,
   "metadata": {},
   "outputs": [],
   "source": [
    "from keras.utils import to_categorical\n",
    "y_train_cnn = to_categorical(y_train_cnn)\n",
    "y_test_cnn = to_categorical(y_test_cnn)"
   ]
  },
  {
   "cell_type": "markdown",
   "metadata": {},
   "source": [
    "Observemos como queda en formato **one hot** la etiqueta de la muestra **0**"
   ]
  },
  {
   "cell_type": "code",
   "execution_count": 90,
   "metadata": {},
   "outputs": [
    {
     "data": {
      "text/plain": [
       "array([1., 0., 0., 0., 0., 0., 0., 0., 0., 0.], dtype=float32)"
      ]
     },
     "execution_count": 90,
     "metadata": {},
     "output_type": "execute_result"
    }
   ],
   "source": [
    "y_train_cnn[666]"
   ]
  },
  {
   "cell_type": "markdown",
   "metadata": {},
   "source": [
    "Construimos un modelo de red neuronal convolucional"
   ]
  },
  {
   "cell_type": "code",
   "execution_count": 91,
   "metadata": {},
   "outputs": [
    {
     "name": "stdout",
     "output_type": "stream",
     "text": [
      "_________________________________________________________________\n",
      "Layer (type)                 Output Shape              Param #   \n",
      "=================================================================\n",
      "conv2d_9 (Conv2D)            (None, 26, 26, 64)        640       \n",
      "_________________________________________________________________\n",
      "conv2d_10 (Conv2D)           (None, 24, 24, 32)        18464     \n",
      "_________________________________________________________________\n",
      "flatten_5 (Flatten)          (None, 18432)             0         \n",
      "_________________________________________________________________\n",
      "dense_4 (Dense)              (None, 10)                184330    \n",
      "=================================================================\n",
      "Total params: 203,434\n",
      "Trainable params: 203,434\n",
      "Non-trainable params: 0\n",
      "_________________________________________________________________\n"
     ]
    }
   ],
   "source": [
    "from keras.models import Sequential\n",
    "from keras.layers import Dense, Conv2D, Flatten\n",
    "\n",
    "model = Sequential()\n",
    "model.add(Conv2D(64, kernel_size=3, activation='relu', input_shape=(28,28,1)))\n",
    "model.add(Conv2D(32, kernel_size=3, activation='relu'))\n",
    "model.add(Flatten())\n",
    "model.add(Dense(10, activation='softmax'))\n",
    "model.summary()"
   ]
  },
  {
   "cell_type": "markdown",
   "metadata": {},
   "source": [
    "**Compilación del modelo:** En donde asignamos la función de costo a optimizar (*categorical cross entropy*) y el algoritmo de optimización (*adam*) y una métrica para evaluar el desempeño del entrenamiento (*accuracy*)"
   ]
  },
  {
   "cell_type": "code",
   "execution_count": 92,
   "metadata": {},
   "outputs": [],
   "source": [
    "model.compile(optimizer='adam', loss='categorical_crossentropy', metrics=['accuracy'])"
   ]
  },
  {
   "cell_type": "markdown",
   "metadata": {},
   "source": [
    "Procedemos a entrenar la red. El total de parametros a entrenar es de 203434"
   ]
  },
  {
   "cell_type": "code",
   "execution_count": 95,
   "metadata": {
    "scrolled": true
   },
   "outputs": [
    {
     "name": "stdout",
     "output_type": "stream",
     "text": [
      "Train on 60000 samples, validate on 10000 samples\n",
      "Epoch 1/10\n",
      "60000/60000 [==============================] - 56s 927us/step - loss: 5.6786 - acc: 0.6476 - val_loss: 5.3919 - val_acc: 0.6654\n",
      "Epoch 2/10\n",
      "60000/60000 [==============================] - 60s 1ms/step - loss: 5.6041 - acc: 0.6522 - val_loss: 5.6886 - val_acc: 0.6470\n",
      "Epoch 3/10\n",
      "60000/60000 [==============================] - 63s 1ms/step - loss: 5.9506 - acc: 0.6308 - val_loss: 6.2028 - val_acc: 0.6151\n",
      "Epoch 4/10\n",
      "60000/60000 [==============================] - 71s 1ms/step - loss: 5.7704 - acc: 0.6420 - val_loss: 5.4225 - val_acc: 0.6635\n",
      "Epoch 5/10\n",
      "60000/60000 [==============================] - 77s 1ms/step - loss: 5.5873 - acc: 0.6532 - val_loss: 5.4673 - val_acc: 0.6608\n",
      "Epoch 6/10\n",
      "60000/60000 [==============================] - 77s 1ms/step - loss: 5.9164 - acc: 0.6328 - val_loss: 5.4422 - val_acc: 0.6623\n",
      "Epoch 7/10\n",
      "60000/60000 [==============================] - 82s 1ms/step - loss: 5.6197 - acc: 0.6513 - val_loss: 5.4138 - val_acc: 0.6641\n",
      "Epoch 8/10\n",
      "60000/60000 [==============================] - 74s 1ms/step - loss: 5.6926 - acc: 0.6468 - val_loss: 5.5265 - val_acc: 0.6569\n",
      "Epoch 9/10\n",
      "60000/60000 [==============================] - 86s 1ms/step - loss: 5.4278 - acc: 0.6632 - val_loss: 5.2313 - val_acc: 0.6753\n",
      "Epoch 10/10\n",
      "60000/60000 [==============================] - 82s 1ms/step - loss: 5.5355 - acc: 0.6565 - val_loss: 5.4295 - val_acc: 0.6631\n"
     ]
    }
   ],
   "source": [
    "history = model.fit(X_train_cnn, y_train_cnn, validation_data=(X_test_cnn, y_test_cnn), epochs=10)"
   ]
  },
  {
   "cell_type": "code",
   "execution_count": 94,
   "metadata": {},
   "outputs": [
    {
     "data": {
      "text/plain": [
       "Text(0.5,1,'Training and validation loss')"
      ]
     },
     "execution_count": 94,
     "metadata": {},
     "output_type": "execute_result"
    },
    {
     "data": {
      "image/png": "[encoded data removed]",
      "text/plain": [
       "<Figure size 432x288 with 1 Axes>"
      ]
     },
     "metadata": {
      "needs_background": "light"
     },
     "output_type": "display_data"
    },
    {
     "data": {
      "image/png": "[encoded data removed]",
      "text/plain": [
       "<Figure size 432x288 with 1 Axes>"
      ]
     },
     "metadata": {
      "needs_background": "light"
     },
     "output_type": "display_data"
    }
   ],
   "source": [
    "acc      = history.history[     'acc' ]\n",
    "val_acc  = history.history[ 'val_acc' ]\n",
    "loss     = history.history[    'loss' ]\n",
    "val_loss = history.history['val_loss' ]\n",
    "\n",
    "epochs   = range(len(acc)) # Get number of epochs\n",
    "\n",
    "#------------------------------------------------\n",
    "# Plot training and validation accuracy per epoch\n",
    "#------------------------------------------------\n",
    "plt.plot  ( epochs,     acc )\n",
    "plt.plot  ( epochs, val_acc )\n",
    "plt.title ('Training and validation accuracy')\n",
    "plt.figure()\n",
    "\n",
    "#------------------------------------------------\n",
    "# Plot training and validation loss per epoch\n",
    "#------------------------------------------------\n",
    "plt.plot  ( epochs,     loss )\n",
    "plt.plot  ( epochs, val_loss )\n",
    "plt.title ('Training and validation loss'   )"
   ]
  },
  {
   "cell_type": "markdown",
   "metadata": {},
   "source": [
    "Guardando la convolucional "
   ]
  },
  {
   "cell_type": "code",
   "execution_count": 99,
   "metadata": {},
   "outputs": [],
   "source": [
    "model.save('mnist_cnn.h5')"
   ]
  }
 ],
 "metadata": {
  "kernelspec": {
   "display_name": "Python 3",
   "language": "python",
   "name": "python3"
  },
  "language_info": {
   "codemirror_mode": {
    "name": "ipython",
    "version": 3
   },
   "file_extension": ".py",
   "mimetype": "text/x-python",
   "name": "python",
   "nbconvert_exporter": "python",
   "pygments_lexer": "ipython3",
   "version": "3.6.4"
  }
 },
 "nbformat": 4,
 "nbformat_minor": 2
}
